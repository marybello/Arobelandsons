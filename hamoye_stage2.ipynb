{
  "nbformat": 4,
  "nbformat_minor": 0,
  "metadata": {
    "colab": {
      "name": "hamoye_stage2.ipynb",
      "provenance": [],
      "collapsed_sections": [],
      "authorship_tag": "ABX9TyOoEPdkky5MBlLIqsrVWwt2",
      "include_colab_link": true
    },
    "kernelspec": {
      "name": "python3",
      "display_name": "Python 3"
    },
    "language_info": {
      "name": "python"
    }
  },
  "cells": [
    {
      "cell_type": "markdown",
      "metadata": {
        "id": "view-in-github",
        "colab_type": "text"
      },
      "source": [
        "<a href=\"https://colab.research.google.com/github/marybello/Arobelandsons/blob/master/hamoye_stage2.ipynb\" target=\"_parent\"><img src=\"https://colab.research.google.com/assets/colab-badge.svg\" alt=\"Open In Colab\"/></a>"
      ]
    },
    {
      "cell_type": "code",
      "execution_count": 1,
      "metadata": {
        "id": "AD18zGmckcIc"
      },
      "outputs": [],
      "source": [
        "import numpy as np\n",
        "import pandas as pd\n",
        "import seaborn as sns\n",
        "import matplotlib.pyplot as plt"
      ]
    },
    {
      "cell_type": "code",
      "source": [
        "import csv"
      ],
      "metadata": {
        "id": "vBrkQF02lSuA"
      },
      "execution_count": 2,
      "outputs": []
    },
    {
      "cell_type": "code",
      "source": [
        "df = pd.read_csv('energydata_complete.csv', quoting=csv.QUOTE_NONE)"
      ],
      "metadata": {
        "id": "40ORd3ZtkshB"
      },
      "execution_count": null,
      "outputs": []
    },
    {
      "cell_type": "code",
      "source": [
        "df.head()"
      ],
      "metadata": {
        "colab": {
          "base_uri": "https://localhost:8080/",
          "height": 444
        },
        "id": "bJUDwG6zk1bU",
        "outputId": "1f84e29a-c697-40ad-a518-4f7c500e6f79"
      },
      "execution_count": null,
      "outputs": [
        {
          "output_type": "execute_result",
          "data": {
            "text/html": [
              "\n",
              "  <div id=\"df-feb8170e-2428-4e01-8845-460041406f47\">\n",
              "    <div class=\"colab-df-container\">\n",
              "      <div>\n",
              "<style scoped>\n",
              "    .dataframe tbody tr th:only-of-type {\n",
              "        vertical-align: middle;\n",
              "    }\n",
              "\n",
              "    .dataframe tbody tr th {\n",
              "        vertical-align: top;\n",
              "    }\n",
              "\n",
              "    .dataframe thead th {\n",
              "        text-align: right;\n",
              "    }\n",
              "</style>\n",
              "<table border=\"1\" class=\"dataframe\">\n",
              "  <thead>\n",
              "    <tr style=\"text-align: right;\">\n",
              "      <th></th>\n",
              "      <th>\"date\"</th>\n",
              "      <th>\"Appliances\"</th>\n",
              "      <th>\"lights\"</th>\n",
              "      <th>\"T1\"</th>\n",
              "      <th>\"RH_1\"</th>\n",
              "      <th>\"T2\"</th>\n",
              "      <th>\"RH_2\"</th>\n",
              "      <th>\"T3\"</th>\n",
              "      <th>\"RH_3\"</th>\n",
              "      <th>\"T4\"</th>\n",
              "      <th>\"RH_4\"</th>\n",
              "      <th>\"T5\"</th>\n",
              "      <th>\"RH_5\"</th>\n",
              "      <th>\"T6\"</th>\n",
              "      <th>\"RH_6\"</th>\n",
              "      <th>\"T7\"</th>\n",
              "      <th>\"RH_7\"</th>\n",
              "      <th>\"T8\"</th>\n",
              "      <th>\"RH_8\"</th>\n",
              "      <th>\"T9\"</th>\n",
              "      <th>\"RH_9\"</th>\n",
              "      <th>\"T_out\"</th>\n",
              "      <th>\"Press_mm_hg\"</th>\n",
              "      <th>\"RH_out\"</th>\n",
              "      <th>\"Windspeed\"</th>\n",
              "      <th>\"Visibility\"</th>\n",
              "      <th>\"Tdewpoint\"</th>\n",
              "      <th>\"rv1\"</th>\n",
              "      <th>\"rv2\"</th>\n",
              "    </tr>\n",
              "  </thead>\n",
              "  <tbody>\n",
              "    <tr>\n",
              "      <th>0</th>\n",
              "      <td>\"2016-01-11 17:00:00\"</td>\n",
              "      <td>\"  60\"</td>\n",
              "      <td>\"30\"</td>\n",
              "      <td>\"19.890000000000001\"</td>\n",
              "      <td>\"47.596666666666700\"</td>\n",
              "      <td>\"19.199999999999999\"</td>\n",
              "      <td>\"44.789999999999999\"</td>\n",
              "      <td>\"19.789999999999999\"</td>\n",
              "      <td>\"44.729999999999997\"</td>\n",
              "      <td>\"19.000000000000000\"</td>\n",
              "      <td>\"45.566666666666698\"</td>\n",
              "      <td>\"17.166666666666700\"</td>\n",
              "      <td>\"55.200000000000003\"</td>\n",
              "      <td>\" 7.026666666666669947\"</td>\n",
              "      <td>\"84.2566666666667032\"</td>\n",
              "      <td>\"17.199999999999999\"</td>\n",
              "      <td>\"41.626666666666701\"</td>\n",
              "      <td>\"18.199999999999999\"</td>\n",
              "      <td>\"48.899999999999999\"</td>\n",
              "      <td>\"17.033333333333299\"</td>\n",
              "      <td>\"45.530000000000001\"</td>\n",
              "      <td>\" 6.5999999999999996e+00\"</td>\n",
              "      <td>\"733.50000000000000\"</td>\n",
              "      <td>\" 92.000000000000000\"</td>\n",
              "      <td>\" 7.00000000000000000\"</td>\n",
              "      <td>\"63.0000000000000000\"</td>\n",
              "      <td>\" 5.2999999999999998e+00\"</td>\n",
              "      <td>\"13.2754331571049988270\"</td>\n",
              "      <td>\"13.2754331571049988270\"</td>\n",
              "    </tr>\n",
              "    <tr>\n",
              "      <th>1</th>\n",
              "      <td>\"2016-01-11 17:10:00\"</td>\n",
              "      <td>\"  60\"</td>\n",
              "      <td>\"30\"</td>\n",
              "      <td>\"19.890000000000001\"</td>\n",
              "      <td>\"46.693333333333300\"</td>\n",
              "      <td>\"19.199999999999999\"</td>\n",
              "      <td>\"44.722499999999997\"</td>\n",
              "      <td>\"19.789999999999999\"</td>\n",
              "      <td>\"44.789999999999999\"</td>\n",
              "      <td>\"19.000000000000000\"</td>\n",
              "      <td>\"45.992500000000000\"</td>\n",
              "      <td>\"17.166666666666700\"</td>\n",
              "      <td>\"55.200000000000003\"</td>\n",
              "      <td>\" 6.833333333333330373\"</td>\n",
              "      <td>\"84.0633333333333042\"</td>\n",
              "      <td>\"17.199999999999999\"</td>\n",
              "      <td>\"41.560000000000002\"</td>\n",
              "      <td>\"18.199999999999999\"</td>\n",
              "      <td>\"48.863333333333301\"</td>\n",
              "      <td>\"17.066666666666698\"</td>\n",
              "      <td>\"45.560000000000002\"</td>\n",
              "      <td>\" 6.4833333333333298e+00\"</td>\n",
              "      <td>\"733.60000000000002\"</td>\n",
              "      <td>\" 92.000000000000000\"</td>\n",
              "      <td>\" 6.66666666666666963\"</td>\n",
              "      <td>\"59.1666666666666998\"</td>\n",
              "      <td>\" 5.2000000000000002e+00\"</td>\n",
              "      <td>\"18.6061949818395078182\"</td>\n",
              "      <td>\"18.6061949818395078182\"</td>\n",
              "    </tr>\n",
              "    <tr>\n",
              "      <th>2</th>\n",
              "      <td>\"2016-01-11 17:20:00\"</td>\n",
              "      <td>\"  50\"</td>\n",
              "      <td>\"30\"</td>\n",
              "      <td>\"19.890000000000001\"</td>\n",
              "      <td>\"46.299999999999997\"</td>\n",
              "      <td>\"19.199999999999999\"</td>\n",
              "      <td>\"44.626666666666701\"</td>\n",
              "      <td>\"19.789999999999999\"</td>\n",
              "      <td>\"44.933333333333302\"</td>\n",
              "      <td>\"18.926666666666701\"</td>\n",
              "      <td>\"45.890000000000001\"</td>\n",
              "      <td>\"17.166666666666700\"</td>\n",
              "      <td>\"55.090000000000003\"</td>\n",
              "      <td>\" 6.559999999999999609\"</td>\n",
              "      <td>\"83.1566666666666947\"</td>\n",
              "      <td>\"17.199999999999999\"</td>\n",
              "      <td>\"41.433333333333302\"</td>\n",
              "      <td>\"18.199999999999999\"</td>\n",
              "      <td>\"48.729999999999997\"</td>\n",
              "      <td>\"17.000000000000000\"</td>\n",
              "      <td>\"45.500000000000000\"</td>\n",
              "      <td>\" 6.3666666666666698e+00\"</td>\n",
              "      <td>\"733.70000000000005\"</td>\n",
              "      <td>\" 92.000000000000000\"</td>\n",
              "      <td>\" 6.33333333333333037\"</td>\n",
              "      <td>\"55.3333333333333002\"</td>\n",
              "      <td>\" 5.0999999999999996e+00\"</td>\n",
              "      <td>\"28.6426681675948202610\"</td>\n",
              "      <td>\"28.6426681675948202610\"</td>\n",
              "    </tr>\n",
              "    <tr>\n",
              "      <th>3</th>\n",
              "      <td>\"2016-01-11 17:30:00\"</td>\n",
              "      <td>\"  50\"</td>\n",
              "      <td>\"40\"</td>\n",
              "      <td>\"19.890000000000001\"</td>\n",
              "      <td>\"46.066666666666698\"</td>\n",
              "      <td>\"19.199999999999999\"</td>\n",
              "      <td>\"44.590000000000003\"</td>\n",
              "      <td>\"19.789999999999999\"</td>\n",
              "      <td>\"45.000000000000000\"</td>\n",
              "      <td>\"18.890000000000001\"</td>\n",
              "      <td>\"45.723333333333301\"</td>\n",
              "      <td>\"17.166666666666700\"</td>\n",
              "      <td>\"55.090000000000003\"</td>\n",
              "      <td>\" 6.433333333333330017\"</td>\n",
              "      <td>\"83.4233333333333036\"</td>\n",
              "      <td>\"17.133333333333301\"</td>\n",
              "      <td>\"41.289999999999999\"</td>\n",
              "      <td>\"18.100000000000001\"</td>\n",
              "      <td>\"48.590000000000003\"</td>\n",
              "      <td>\"17.000000000000000\"</td>\n",
              "      <td>\"45.399999999999999\"</td>\n",
              "      <td>\" 6.2500000000000000e+00\"</td>\n",
              "      <td>\"733.79999999999995\"</td>\n",
              "      <td>\" 92.000000000000000\"</td>\n",
              "      <td>\" 6.00000000000000000\"</td>\n",
              "      <td>\"51.5000000000000000\"</td>\n",
              "      <td>\" 5.0000000000000000e+00\"</td>\n",
              "      <td>\"45.4103894997388124466\"</td>\n",
              "      <td>\"45.4103894997388124466\"</td>\n",
              "    </tr>\n",
              "    <tr>\n",
              "      <th>4</th>\n",
              "      <td>\"2016-01-11 17:40:00\"</td>\n",
              "      <td>\"  60\"</td>\n",
              "      <td>\"40\"</td>\n",
              "      <td>\"19.890000000000001\"</td>\n",
              "      <td>\"46.333333333333300\"</td>\n",
              "      <td>\"19.199999999999999\"</td>\n",
              "      <td>\"44.530000000000001\"</td>\n",
              "      <td>\"19.789999999999999\"</td>\n",
              "      <td>\"45.000000000000000\"</td>\n",
              "      <td>\"18.890000000000001\"</td>\n",
              "      <td>\"45.530000000000001\"</td>\n",
              "      <td>\"17.199999999999999\"</td>\n",
              "      <td>\"55.090000000000003\"</td>\n",
              "      <td>\" 6.366666666666669805\"</td>\n",
              "      <td>\"84.8933333333333024\"</td>\n",
              "      <td>\"17.199999999999999\"</td>\n",
              "      <td>\"41.229999999999997\"</td>\n",
              "      <td>\"18.100000000000001\"</td>\n",
              "      <td>\"48.590000000000003\"</td>\n",
              "      <td>\"17.000000000000000\"</td>\n",
              "      <td>\"45.399999999999999\"</td>\n",
              "      <td>\" 6.1333333333333302e+00\"</td>\n",
              "      <td>\"733.89999999999998\"</td>\n",
              "      <td>\" 92.000000000000000\"</td>\n",
              "      <td>\" 5.66666666666666963\"</td>\n",
              "      <td>\"47.6666666666666998\"</td>\n",
              "      <td>\" 4.9000000000000004e+00\"</td>\n",
              "      <td>\"10.0840965518727898598\"</td>\n",
              "      <td>\"10.0840965518727898598\"</td>\n",
              "    </tr>\n",
              "  </tbody>\n",
              "</table>\n",
              "</div>\n",
              "      <button class=\"colab-df-convert\" onclick=\"convertToInteractive('df-feb8170e-2428-4e01-8845-460041406f47')\"\n",
              "              title=\"Convert this dataframe to an interactive table.\"\n",
              "              style=\"display:none;\">\n",
              "        \n",
              "  <svg xmlns=\"http://www.w3.org/2000/svg\" height=\"24px\"viewBox=\"0 0 24 24\"\n",
              "       width=\"24px\">\n",
              "    <path d=\"M0 0h24v24H0V0z\" fill=\"none\"/>\n",
              "    <path d=\"M18.56 5.44l.94 2.06.94-2.06 2.06-.94-2.06-.94-.94-2.06-.94 2.06-2.06.94zm-11 1L8.5 8.5l.94-2.06 2.06-.94-2.06-.94L8.5 2.5l-.94 2.06-2.06.94zm10 10l.94 2.06.94-2.06 2.06-.94-2.06-.94-.94-2.06-.94 2.06-2.06.94z\"/><path d=\"M17.41 7.96l-1.37-1.37c-.4-.4-.92-.59-1.43-.59-.52 0-1.04.2-1.43.59L10.3 9.45l-7.72 7.72c-.78.78-.78 2.05 0 2.83L4 21.41c.39.39.9.59 1.41.59.51 0 1.02-.2 1.41-.59l7.78-7.78 2.81-2.81c.8-.78.8-2.07 0-2.86zM5.41 20L4 18.59l7.72-7.72 1.47 1.35L5.41 20z\"/>\n",
              "  </svg>\n",
              "      </button>\n",
              "      \n",
              "  <style>\n",
              "    .colab-df-container {\n",
              "      display:flex;\n",
              "      flex-wrap:wrap;\n",
              "      gap: 12px;\n",
              "    }\n",
              "\n",
              "    .colab-df-convert {\n",
              "      background-color: #E8F0FE;\n",
              "      border: none;\n",
              "      border-radius: 50%;\n",
              "      cursor: pointer;\n",
              "      display: none;\n",
              "      fill: #1967D2;\n",
              "      height: 32px;\n",
              "      padding: 0 0 0 0;\n",
              "      width: 32px;\n",
              "    }\n",
              "\n",
              "    .colab-df-convert:hover {\n",
              "      background-color: #E2EBFA;\n",
              "      box-shadow: 0px 1px 2px rgba(60, 64, 67, 0.3), 0px 1px 3px 1px rgba(60, 64, 67, 0.15);\n",
              "      fill: #174EA6;\n",
              "    }\n",
              "\n",
              "    [theme=dark] .colab-df-convert {\n",
              "      background-color: #3B4455;\n",
              "      fill: #D2E3FC;\n",
              "    }\n",
              "\n",
              "    [theme=dark] .colab-df-convert:hover {\n",
              "      background-color: #434B5C;\n",
              "      box-shadow: 0px 1px 3px 1px rgba(0, 0, 0, 0.15);\n",
              "      filter: drop-shadow(0px 1px 2px rgba(0, 0, 0, 0.3));\n",
              "      fill: #FFFFFF;\n",
              "    }\n",
              "  </style>\n",
              "\n",
              "      <script>\n",
              "        const buttonEl =\n",
              "          document.querySelector('#df-feb8170e-2428-4e01-8845-460041406f47 button.colab-df-convert');\n",
              "        buttonEl.style.display =\n",
              "          google.colab.kernel.accessAllowed ? 'block' : 'none';\n",
              "\n",
              "        async function convertToInteractive(key) {\n",
              "          const element = document.querySelector('#df-feb8170e-2428-4e01-8845-460041406f47');\n",
              "          const dataTable =\n",
              "            await google.colab.kernel.invokeFunction('convertToInteractive',\n",
              "                                                     [key], {});\n",
              "          if (!dataTable) return;\n",
              "\n",
              "          const docLinkHtml = 'Like what you see? Visit the ' +\n",
              "            '<a target=\"_blank\" href=https://colab.research.google.com/notebooks/data_table.ipynb>data table notebook</a>'\n",
              "            + ' to learn more about interactive tables.';\n",
              "          element.innerHTML = '';\n",
              "          dataTable['output_type'] = 'display_data';\n",
              "          await google.colab.output.renderOutput(dataTable, element);\n",
              "          const docLink = document.createElement('div');\n",
              "          docLink.innerHTML = docLinkHtml;\n",
              "          element.appendChild(docLink);\n",
              "        }\n",
              "      </script>\n",
              "    </div>\n",
              "  </div>\n",
              "  "
            ],
            "text/plain": [
              "                  \"date\"  ...                     \"rv2\"\n",
              "0  \"2016-01-11 17:00:00\"  ...  \"13.2754331571049988270\"\n",
              "1  \"2016-01-11 17:10:00\"  ...  \"18.6061949818395078182\"\n",
              "2  \"2016-01-11 17:20:00\"  ...  \"28.6426681675948202610\"\n",
              "3  \"2016-01-11 17:30:00\"  ...  \"45.4103894997388124466\"\n",
              "4  \"2016-01-11 17:40:00\"  ...  \"10.0840965518727898598\"\n",
              "\n",
              "[5 rows x 29 columns]"
            ]
          },
          "metadata": {},
          "execution_count": 4
        }
      ]
    },
    {
      "cell_type": "code",
      "source": [
        "for i, col in enumerate(df.columns):\n",
        "    df.iloc[:, i] = df.iloc[:, i].str.replace('\"', '')\n",
        "    "
      ],
      "metadata": {
        "id": "8i9X9wiOlXSl"
      },
      "execution_count": null,
      "outputs": []
    },
    {
      "cell_type": "code",
      "source": [
        "df= pd.read_csv('stage2.csv')"
      ],
      "metadata": {
        "id": "kZGgR1arJl3S"
      },
      "execution_count": null,
      "outputs": []
    },
    {
      "cell_type": "code",
      "source": [
        "df.columns"
      ],
      "metadata": {
        "colab": {
          "base_uri": "https://localhost:8080/"
        },
        "id": "M6gIjiTolyYx",
        "outputId": "7bae78b3-526a-4e7c-fb1c-7d684732c334"
      },
      "execution_count": null,
      "outputs": [
        {
          "output_type": "execute_result",
          "data": {
            "text/plain": [
              "Index(['Unnamed: 0', '\"date\"', '\"Appliances\"', '\"lights\"', '\"T1\"', '\"RH_1\"',\n",
              "       '\"T2\"', '\"RH_2\"', '\"T3\"', '\"RH_3\"', '\"T4\"', '\"RH_4\"', '\"T5\"', '\"RH_5\"',\n",
              "       '\"T6\"', '\"RH_6\"', '\"T7\"', '\"RH_7\"', '\"T8\"', '\"RH_8\"', '\"T9\"', '\"RH_9\"',\n",
              "       '\"T_out\"', '\"Press_mm_hg\"', '\"RH_out\"', '\"Windspeed\"', '\"Visibility\"',\n",
              "       '\"Tdewpoint\"', '\"rv1\"', '\"rv2\"'],\n",
              "      dtype='object')"
            ]
          },
          "metadata": {},
          "execution_count": 5
        }
      ]
    },
    {
      "cell_type": "code",
      "source": [
        "df.drop('Unnamed: 0', axis=1, inplace=True)"
      ],
      "metadata": {
        "id": "UqPzmK6-IV_x"
      },
      "execution_count": null,
      "outputs": []
    },
    {
      "cell_type": "code",
      "source": [
        "df.sample(1)"
      ],
      "metadata": {
        "colab": {
          "base_uri": "https://localhost:8080/",
          "height": 179
        },
        "id": "Q4WB0zbomLYV",
        "outputId": "71d123c2-6887-475b-8d5a-94cc749dd3a8"
      },
      "execution_count": null,
      "outputs": [
        {
          "output_type": "execute_result",
          "data": {
            "text/html": [
              "\n",
              "  <div id=\"df-c343ba06-996e-47d4-ae92-a6d6e6bcaa19\">\n",
              "    <div class=\"colab-df-container\">\n",
              "      <div>\n",
              "<style scoped>\n",
              "    .dataframe tbody tr th:only-of-type {\n",
              "        vertical-align: middle;\n",
              "    }\n",
              "\n",
              "    .dataframe tbody tr th {\n",
              "        vertical-align: top;\n",
              "    }\n",
              "\n",
              "    .dataframe thead th {\n",
              "        text-align: right;\n",
              "    }\n",
              "</style>\n",
              "<table border=\"1\" class=\"dataframe\">\n",
              "  <thead>\n",
              "    <tr style=\"text-align: right;\">\n",
              "      <th></th>\n",
              "      <th>\"date\"</th>\n",
              "      <th>\"Appliances\"</th>\n",
              "      <th>\"lights\"</th>\n",
              "      <th>\"T1\"</th>\n",
              "      <th>\"RH_1\"</th>\n",
              "      <th>\"T2\"</th>\n",
              "      <th>\"RH_2\"</th>\n",
              "      <th>\"T3\"</th>\n",
              "      <th>\"RH_3\"</th>\n",
              "      <th>\"T4\"</th>\n",
              "      <th>\"RH_4\"</th>\n",
              "      <th>\"T5\"</th>\n",
              "      <th>\"RH_5\"</th>\n",
              "      <th>\"T6\"</th>\n",
              "      <th>\"RH_6\"</th>\n",
              "      <th>\"T7\"</th>\n",
              "      <th>\"RH_7\"</th>\n",
              "      <th>\"T8\"</th>\n",
              "      <th>\"RH_8\"</th>\n",
              "      <th>\"T9\"</th>\n",
              "      <th>\"RH_9\"</th>\n",
              "      <th>\"T_out\"</th>\n",
              "      <th>\"Press_mm_hg\"</th>\n",
              "      <th>\"RH_out\"</th>\n",
              "      <th>\"Windspeed\"</th>\n",
              "      <th>\"Visibility\"</th>\n",
              "      <th>\"Tdewpoint\"</th>\n",
              "      <th>\"rv1\"</th>\n",
              "      <th>\"rv2\"</th>\n",
              "    </tr>\n",
              "  </thead>\n",
              "  <tbody>\n",
              "    <tr>\n",
              "      <th>12859</th>\n",
              "      <td>2016-04-10 00:10:00</td>\n",
              "      <td>40</td>\n",
              "      <td>0</td>\n",
              "      <td>22.133333</td>\n",
              "      <td>40.79</td>\n",
              "      <td>19.7</td>\n",
              "      <td>43.966667</td>\n",
              "      <td>22.89</td>\n",
              "      <td>39.7</td>\n",
              "      <td>20.5</td>\n",
              "      <td>38.59</td>\n",
              "      <td>20.014286</td>\n",
              "      <td>46.712857</td>\n",
              "      <td>7.226667</td>\n",
              "      <td>55.863333</td>\n",
              "      <td>21.7</td>\n",
              "      <td>36.73</td>\n",
              "      <td>22.89</td>\n",
              "      <td>40.668571</td>\n",
              "      <td>20.1</td>\n",
              "      <td>40.43</td>\n",
              "      <td>7.016667</td>\n",
              "      <td>750.783333</td>\n",
              "      <td>93.666667</td>\n",
              "      <td>1.833333</td>\n",
              "      <td>38.166667</td>\n",
              "      <td>6.016667</td>\n",
              "      <td>3.557348</td>\n",
              "      <td>3.557348</td>\n",
              "    </tr>\n",
              "  </tbody>\n",
              "</table>\n",
              "</div>\n",
              "      <button class=\"colab-df-convert\" onclick=\"convertToInteractive('df-c343ba06-996e-47d4-ae92-a6d6e6bcaa19')\"\n",
              "              title=\"Convert this dataframe to an interactive table.\"\n",
              "              style=\"display:none;\">\n",
              "        \n",
              "  <svg xmlns=\"http://www.w3.org/2000/svg\" height=\"24px\"viewBox=\"0 0 24 24\"\n",
              "       width=\"24px\">\n",
              "    <path d=\"M0 0h24v24H0V0z\" fill=\"none\"/>\n",
              "    <path d=\"M18.56 5.44l.94 2.06.94-2.06 2.06-.94-2.06-.94-.94-2.06-.94 2.06-2.06.94zm-11 1L8.5 8.5l.94-2.06 2.06-.94-2.06-.94L8.5 2.5l-.94 2.06-2.06.94zm10 10l.94 2.06.94-2.06 2.06-.94-2.06-.94-.94-2.06-.94 2.06-2.06.94z\"/><path d=\"M17.41 7.96l-1.37-1.37c-.4-.4-.92-.59-1.43-.59-.52 0-1.04.2-1.43.59L10.3 9.45l-7.72 7.72c-.78.78-.78 2.05 0 2.83L4 21.41c.39.39.9.59 1.41.59.51 0 1.02-.2 1.41-.59l7.78-7.78 2.81-2.81c.8-.78.8-2.07 0-2.86zM5.41 20L4 18.59l7.72-7.72 1.47 1.35L5.41 20z\"/>\n",
              "  </svg>\n",
              "      </button>\n",
              "      \n",
              "  <style>\n",
              "    .colab-df-container {\n",
              "      display:flex;\n",
              "      flex-wrap:wrap;\n",
              "      gap: 12px;\n",
              "    }\n",
              "\n",
              "    .colab-df-convert {\n",
              "      background-color: #E8F0FE;\n",
              "      border: none;\n",
              "      border-radius: 50%;\n",
              "      cursor: pointer;\n",
              "      display: none;\n",
              "      fill: #1967D2;\n",
              "      height: 32px;\n",
              "      padding: 0 0 0 0;\n",
              "      width: 32px;\n",
              "    }\n",
              "\n",
              "    .colab-df-convert:hover {\n",
              "      background-color: #E2EBFA;\n",
              "      box-shadow: 0px 1px 2px rgba(60, 64, 67, 0.3), 0px 1px 3px 1px rgba(60, 64, 67, 0.15);\n",
              "      fill: #174EA6;\n",
              "    }\n",
              "\n",
              "    [theme=dark] .colab-df-convert {\n",
              "      background-color: #3B4455;\n",
              "      fill: #D2E3FC;\n",
              "    }\n",
              "\n",
              "    [theme=dark] .colab-df-convert:hover {\n",
              "      background-color: #434B5C;\n",
              "      box-shadow: 0px 1px 3px 1px rgba(0, 0, 0, 0.15);\n",
              "      filter: drop-shadow(0px 1px 2px rgba(0, 0, 0, 0.3));\n",
              "      fill: #FFFFFF;\n",
              "    }\n",
              "  </style>\n",
              "\n",
              "      <script>\n",
              "        const buttonEl =\n",
              "          document.querySelector('#df-c343ba06-996e-47d4-ae92-a6d6e6bcaa19 button.colab-df-convert');\n",
              "        buttonEl.style.display =\n",
              "          google.colab.kernel.accessAllowed ? 'block' : 'none';\n",
              "\n",
              "        async function convertToInteractive(key) {\n",
              "          const element = document.querySelector('#df-c343ba06-996e-47d4-ae92-a6d6e6bcaa19');\n",
              "          const dataTable =\n",
              "            await google.colab.kernel.invokeFunction('convertToInteractive',\n",
              "                                                     [key], {});\n",
              "          if (!dataTable) return;\n",
              "\n",
              "          const docLinkHtml = 'Like what you see? Visit the ' +\n",
              "            '<a target=\"_blank\" href=https://colab.research.google.com/notebooks/data_table.ipynb>data table notebook</a>'\n",
              "            + ' to learn more about interactive tables.';\n",
              "          element.innerHTML = '';\n",
              "          dataTable['output_type'] = 'display_data';\n",
              "          await google.colab.output.renderOutput(dataTable, element);\n",
              "          const docLink = document.createElement('div');\n",
              "          docLink.innerHTML = docLinkHtml;\n",
              "          element.appendChild(docLink);\n",
              "        }\n",
              "      </script>\n",
              "    </div>\n",
              "  </div>\n",
              "  "
            ],
            "text/plain": [
              "                    \"date\"  \"Appliances\"  ...     \"rv1\"     \"rv2\"\n",
              "12859  2016-04-10 00:10:00            40  ...  3.557348  3.557348\n",
              "\n",
              "[1 rows x 29 columns]"
            ]
          },
          "metadata": {},
          "execution_count": 16
        }
      ]
    },
    {
      "cell_type": "code",
      "source": [
        "df.columns = df.columns.str.replace('\"', '')"
      ],
      "metadata": {
        "id": "VXxiEX3JPi4i"
      },
      "execution_count": null,
      "outputs": []
    },
    {
      "cell_type": "code",
      "source": [
        "df.columns"
      ],
      "metadata": {
        "colab": {
          "base_uri": "https://localhost:8080/"
        },
        "id": "jEzzQwicQNV4",
        "outputId": "36aa8206-383c-4260-8627-41724be79dc3"
      },
      "execution_count": null,
      "outputs": [
        {
          "output_type": "execute_result",
          "data": {
            "text/plain": [
              "Index(['date', 'Appliances', 'lights', 'T1', 'RH_1', 'T2', 'RH_2', 'T3',\n",
              "       'RH_3', 'T4', 'RH_4', 'T5', 'RH_5', 'T6', 'RH_6', 'T7', 'RH_7', 'T8',\n",
              "       'RH_8', 'T9', 'RH_9', 'T_out', 'Press_mm_hg', 'RH_out', 'Windspeed',\n",
              "       'Visibility', 'Tdewpoint', 'rv1', 'rv2'],\n",
              "      dtype='object')"
            ]
          },
          "metadata": {},
          "execution_count": 19
        }
      ]
    },
    {
      "cell_type": "code",
      "source": [
        "df.sample(1)"
      ],
      "metadata": {
        "id": "HwlYbpAsP4pl",
        "colab": {
          "base_uri": "https://localhost:8080/",
          "height": 179
        },
        "outputId": "a3c7f909-3394-4f3f-f1fd-821e4cd35814"
      },
      "execution_count": null,
      "outputs": [
        {
          "output_type": "execute_result",
          "data": {
            "text/html": [
              "\n",
              "  <div id=\"df-64328a85-947e-4bfb-97e2-30328761ea8b\">\n",
              "    <div class=\"colab-df-container\">\n",
              "      <div>\n",
              "<style scoped>\n",
              "    .dataframe tbody tr th:only-of-type {\n",
              "        vertical-align: middle;\n",
              "    }\n",
              "\n",
              "    .dataframe tbody tr th {\n",
              "        vertical-align: top;\n",
              "    }\n",
              "\n",
              "    .dataframe thead th {\n",
              "        text-align: right;\n",
              "    }\n",
              "</style>\n",
              "<table border=\"1\" class=\"dataframe\">\n",
              "  <thead>\n",
              "    <tr style=\"text-align: right;\">\n",
              "      <th></th>\n",
              "      <th>date</th>\n",
              "      <th>Appliances</th>\n",
              "      <th>lights</th>\n",
              "      <th>T1</th>\n",
              "      <th>RH_1</th>\n",
              "      <th>T2</th>\n",
              "      <th>RH_2</th>\n",
              "      <th>T3</th>\n",
              "      <th>RH_3</th>\n",
              "      <th>T4</th>\n",
              "      <th>RH_4</th>\n",
              "      <th>T5</th>\n",
              "      <th>RH_5</th>\n",
              "      <th>T6</th>\n",
              "      <th>RH_6</th>\n",
              "      <th>T7</th>\n",
              "      <th>RH_7</th>\n",
              "      <th>T8</th>\n",
              "      <th>RH_8</th>\n",
              "      <th>T9</th>\n",
              "      <th>RH_9</th>\n",
              "      <th>T_out</th>\n",
              "      <th>Press_mm_hg</th>\n",
              "      <th>RH_out</th>\n",
              "      <th>Windspeed</th>\n",
              "      <th>Visibility</th>\n",
              "      <th>Tdewpoint</th>\n",
              "      <th>rv1</th>\n",
              "      <th>rv2</th>\n",
              "    </tr>\n",
              "  </thead>\n",
              "  <tbody>\n",
              "    <tr>\n",
              "      <th>7518</th>\n",
              "      <td>2016-03-03 22:00:00</td>\n",
              "      <td>40</td>\n",
              "      <td>0</td>\n",
              "      <td>22.452857</td>\n",
              "      <td>36.985714</td>\n",
              "      <td>21.0</td>\n",
              "      <td>37.59</td>\n",
              "      <td>21.25625</td>\n",
              "      <td>37.6475</td>\n",
              "      <td>20.1</td>\n",
              "      <td>34.668571</td>\n",
              "      <td>20.361429</td>\n",
              "      <td>44.147143</td>\n",
              "      <td>1.033333</td>\n",
              "      <td>75.706667</td>\n",
              "      <td>19.251429</td>\n",
              "      <td>30.168571</td>\n",
              "      <td>21.89</td>\n",
              "      <td>39.767143</td>\n",
              "      <td>18.39</td>\n",
              "      <td>36.738571</td>\n",
              "      <td>1.3</td>\n",
              "      <td>749.4</td>\n",
              "      <td>92.0</td>\n",
              "      <td>3.0</td>\n",
              "      <td>23.0</td>\n",
              "      <td>0.1</td>\n",
              "      <td>10.776926</td>\n",
              "      <td>10.776926</td>\n",
              "    </tr>\n",
              "  </tbody>\n",
              "</table>\n",
              "</div>\n",
              "      <button class=\"colab-df-convert\" onclick=\"convertToInteractive('df-64328a85-947e-4bfb-97e2-30328761ea8b')\"\n",
              "              title=\"Convert this dataframe to an interactive table.\"\n",
              "              style=\"display:none;\">\n",
              "        \n",
              "  <svg xmlns=\"http://www.w3.org/2000/svg\" height=\"24px\"viewBox=\"0 0 24 24\"\n",
              "       width=\"24px\">\n",
              "    <path d=\"M0 0h24v24H0V0z\" fill=\"none\"/>\n",
              "    <path d=\"M18.56 5.44l.94 2.06.94-2.06 2.06-.94-2.06-.94-.94-2.06-.94 2.06-2.06.94zm-11 1L8.5 8.5l.94-2.06 2.06-.94-2.06-.94L8.5 2.5l-.94 2.06-2.06.94zm10 10l.94 2.06.94-2.06 2.06-.94-2.06-.94-.94-2.06-.94 2.06-2.06.94z\"/><path d=\"M17.41 7.96l-1.37-1.37c-.4-.4-.92-.59-1.43-.59-.52 0-1.04.2-1.43.59L10.3 9.45l-7.72 7.72c-.78.78-.78 2.05 0 2.83L4 21.41c.39.39.9.59 1.41.59.51 0 1.02-.2 1.41-.59l7.78-7.78 2.81-2.81c.8-.78.8-2.07 0-2.86zM5.41 20L4 18.59l7.72-7.72 1.47 1.35L5.41 20z\"/>\n",
              "  </svg>\n",
              "      </button>\n",
              "      \n",
              "  <style>\n",
              "    .colab-df-container {\n",
              "      display:flex;\n",
              "      flex-wrap:wrap;\n",
              "      gap: 12px;\n",
              "    }\n",
              "\n",
              "    .colab-df-convert {\n",
              "      background-color: #E8F0FE;\n",
              "      border: none;\n",
              "      border-radius: 50%;\n",
              "      cursor: pointer;\n",
              "      display: none;\n",
              "      fill: #1967D2;\n",
              "      height: 32px;\n",
              "      padding: 0 0 0 0;\n",
              "      width: 32px;\n",
              "    }\n",
              "\n",
              "    .colab-df-convert:hover {\n",
              "      background-color: #E2EBFA;\n",
              "      box-shadow: 0px 1px 2px rgba(60, 64, 67, 0.3), 0px 1px 3px 1px rgba(60, 64, 67, 0.15);\n",
              "      fill: #174EA6;\n",
              "    }\n",
              "\n",
              "    [theme=dark] .colab-df-convert {\n",
              "      background-color: #3B4455;\n",
              "      fill: #D2E3FC;\n",
              "    }\n",
              "\n",
              "    [theme=dark] .colab-df-convert:hover {\n",
              "      background-color: #434B5C;\n",
              "      box-shadow: 0px 1px 3px 1px rgba(0, 0, 0, 0.15);\n",
              "      filter: drop-shadow(0px 1px 2px rgba(0, 0, 0, 0.3));\n",
              "      fill: #FFFFFF;\n",
              "    }\n",
              "  </style>\n",
              "\n",
              "      <script>\n",
              "        const buttonEl =\n",
              "          document.querySelector('#df-64328a85-947e-4bfb-97e2-30328761ea8b button.colab-df-convert');\n",
              "        buttonEl.style.display =\n",
              "          google.colab.kernel.accessAllowed ? 'block' : 'none';\n",
              "\n",
              "        async function convertToInteractive(key) {\n",
              "          const element = document.querySelector('#df-64328a85-947e-4bfb-97e2-30328761ea8b');\n",
              "          const dataTable =\n",
              "            await google.colab.kernel.invokeFunction('convertToInteractive',\n",
              "                                                     [key], {});\n",
              "          if (!dataTable) return;\n",
              "\n",
              "          const docLinkHtml = 'Like what you see? Visit the ' +\n",
              "            '<a target=\"_blank\" href=https://colab.research.google.com/notebooks/data_table.ipynb>data table notebook</a>'\n",
              "            + ' to learn more about interactive tables.';\n",
              "          element.innerHTML = '';\n",
              "          dataTable['output_type'] = 'display_data';\n",
              "          await google.colab.output.renderOutput(dataTable, element);\n",
              "          const docLink = document.createElement('div');\n",
              "          docLink.innerHTML = docLinkHtml;\n",
              "          element.appendChild(docLink);\n",
              "        }\n",
              "      </script>\n",
              "    </div>\n",
              "  </div>\n",
              "  "
            ],
            "text/plain": [
              "                     date  Appliances  lights  ...  Tdewpoint        rv1        rv2\n",
              "7518  2016-03-03 22:00:00          40       0  ...        0.1  10.776926  10.776926\n",
              "\n",
              "[1 rows x 29 columns]"
            ]
          },
          "metadata": {},
          "execution_count": 20
        }
      ]
    },
    {
      "cell_type": "code",
      "source": [
        "df.describe()"
      ],
      "metadata": {
        "colab": {
          "base_uri": "https://localhost:8080/",
          "height": 364
        },
        "id": "UFuIvyP4VEfX",
        "outputId": "73c2d655-5ac4-45e1-8386-1d22ece07260"
      },
      "execution_count": null,
      "outputs": [
        {
          "output_type": "execute_result",
          "data": {
            "text/html": [
              "\n",
              "  <div id=\"df-7c96ca3d-dd2e-44f5-89e6-5fe318b1406c\">\n",
              "    <div class=\"colab-df-container\">\n",
              "      <div>\n",
              "<style scoped>\n",
              "    .dataframe tbody tr th:only-of-type {\n",
              "        vertical-align: middle;\n",
              "    }\n",
              "\n",
              "    .dataframe tbody tr th {\n",
              "        vertical-align: top;\n",
              "    }\n",
              "\n",
              "    .dataframe thead th {\n",
              "        text-align: right;\n",
              "    }\n",
              "</style>\n",
              "<table border=\"1\" class=\"dataframe\">\n",
              "  <thead>\n",
              "    <tr style=\"text-align: right;\">\n",
              "      <th></th>\n",
              "      <th>Appliances</th>\n",
              "      <th>lights</th>\n",
              "      <th>T1</th>\n",
              "      <th>RH_1</th>\n",
              "      <th>T2</th>\n",
              "      <th>RH_2</th>\n",
              "      <th>T3</th>\n",
              "      <th>RH_3</th>\n",
              "      <th>T4</th>\n",
              "      <th>RH_4</th>\n",
              "      <th>T5</th>\n",
              "      <th>RH_5</th>\n",
              "      <th>T6</th>\n",
              "      <th>RH_6</th>\n",
              "      <th>T7</th>\n",
              "      <th>RH_7</th>\n",
              "      <th>T8</th>\n",
              "      <th>RH_8</th>\n",
              "      <th>T9</th>\n",
              "      <th>RH_9</th>\n",
              "      <th>T_out</th>\n",
              "      <th>Press_mm_hg</th>\n",
              "      <th>RH_out</th>\n",
              "      <th>Windspeed</th>\n",
              "      <th>Visibility</th>\n",
              "      <th>Tdewpoint</th>\n",
              "      <th>rv1</th>\n",
              "      <th>rv2</th>\n",
              "    </tr>\n",
              "  </thead>\n",
              "  <tbody>\n",
              "    <tr>\n",
              "      <th>count</th>\n",
              "      <td>19735.000000</td>\n",
              "      <td>19735.000000</td>\n",
              "      <td>19735.000000</td>\n",
              "      <td>19735.000000</td>\n",
              "      <td>19735.000000</td>\n",
              "      <td>19735.000000</td>\n",
              "      <td>19735.000000</td>\n",
              "      <td>19735.000000</td>\n",
              "      <td>19735.000000</td>\n",
              "      <td>19735.000000</td>\n",
              "      <td>19735.000000</td>\n",
              "      <td>19735.000000</td>\n",
              "      <td>19735.000000</td>\n",
              "      <td>19735.000000</td>\n",
              "      <td>19735.000000</td>\n",
              "      <td>19735.000000</td>\n",
              "      <td>19735.000000</td>\n",
              "      <td>19735.000000</td>\n",
              "      <td>19735.000000</td>\n",
              "      <td>19735.000000</td>\n",
              "      <td>19735.000000</td>\n",
              "      <td>19735.000000</td>\n",
              "      <td>19735.000000</td>\n",
              "      <td>19735.000000</td>\n",
              "      <td>19735.000000</td>\n",
              "      <td>19735.000000</td>\n",
              "      <td>19735.000000</td>\n",
              "      <td>19735.000000</td>\n",
              "    </tr>\n",
              "    <tr>\n",
              "      <th>mean</th>\n",
              "      <td>97.694958</td>\n",
              "      <td>3.801875</td>\n",
              "      <td>21.686571</td>\n",
              "      <td>40.259739</td>\n",
              "      <td>20.341219</td>\n",
              "      <td>40.420420</td>\n",
              "      <td>22.267611</td>\n",
              "      <td>39.242500</td>\n",
              "      <td>20.855335</td>\n",
              "      <td>39.026904</td>\n",
              "      <td>19.592106</td>\n",
              "      <td>50.949283</td>\n",
              "      <td>7.910939</td>\n",
              "      <td>54.609083</td>\n",
              "      <td>20.267106</td>\n",
              "      <td>35.388200</td>\n",
              "      <td>22.029107</td>\n",
              "      <td>42.936165</td>\n",
              "      <td>19.485828</td>\n",
              "      <td>41.552401</td>\n",
              "      <td>7.411665</td>\n",
              "      <td>755.522602</td>\n",
              "      <td>79.750418</td>\n",
              "      <td>4.039752</td>\n",
              "      <td>38.330834</td>\n",
              "      <td>3.760707</td>\n",
              "      <td>24.988033</td>\n",
              "      <td>24.988033</td>\n",
              "    </tr>\n",
              "    <tr>\n",
              "      <th>std</th>\n",
              "      <td>102.524891</td>\n",
              "      <td>7.935988</td>\n",
              "      <td>1.606066</td>\n",
              "      <td>3.979299</td>\n",
              "      <td>2.192974</td>\n",
              "      <td>4.069813</td>\n",
              "      <td>2.006111</td>\n",
              "      <td>3.254576</td>\n",
              "      <td>2.042884</td>\n",
              "      <td>4.341321</td>\n",
              "      <td>1.844623</td>\n",
              "      <td>9.022034</td>\n",
              "      <td>6.090347</td>\n",
              "      <td>31.149806</td>\n",
              "      <td>2.109993</td>\n",
              "      <td>5.114208</td>\n",
              "      <td>1.956162</td>\n",
              "      <td>5.224361</td>\n",
              "      <td>2.014712</td>\n",
              "      <td>4.151497</td>\n",
              "      <td>5.317409</td>\n",
              "      <td>7.399441</td>\n",
              "      <td>14.901088</td>\n",
              "      <td>2.451221</td>\n",
              "      <td>11.794719</td>\n",
              "      <td>4.194648</td>\n",
              "      <td>14.496634</td>\n",
              "      <td>14.496634</td>\n",
              "    </tr>\n",
              "    <tr>\n",
              "      <th>min</th>\n",
              "      <td>10.000000</td>\n",
              "      <td>0.000000</td>\n",
              "      <td>16.790000</td>\n",
              "      <td>27.023333</td>\n",
              "      <td>16.100000</td>\n",
              "      <td>20.463333</td>\n",
              "      <td>17.200000</td>\n",
              "      <td>28.766667</td>\n",
              "      <td>15.100000</td>\n",
              "      <td>27.660000</td>\n",
              "      <td>15.330000</td>\n",
              "      <td>29.815000</td>\n",
              "      <td>-6.065000</td>\n",
              "      <td>1.000000</td>\n",
              "      <td>15.390000</td>\n",
              "      <td>23.200000</td>\n",
              "      <td>16.306667</td>\n",
              "      <td>29.600000</td>\n",
              "      <td>14.890000</td>\n",
              "      <td>29.166667</td>\n",
              "      <td>-5.000000</td>\n",
              "      <td>729.300000</td>\n",
              "      <td>24.000000</td>\n",
              "      <td>0.000000</td>\n",
              "      <td>1.000000</td>\n",
              "      <td>-6.600000</td>\n",
              "      <td>0.005322</td>\n",
              "      <td>0.005322</td>\n",
              "    </tr>\n",
              "    <tr>\n",
              "      <th>25%</th>\n",
              "      <td>50.000000</td>\n",
              "      <td>0.000000</td>\n",
              "      <td>20.760000</td>\n",
              "      <td>37.333333</td>\n",
              "      <td>18.790000</td>\n",
              "      <td>37.900000</td>\n",
              "      <td>20.790000</td>\n",
              "      <td>36.900000</td>\n",
              "      <td>19.530000</td>\n",
              "      <td>35.530000</td>\n",
              "      <td>18.277500</td>\n",
              "      <td>45.400000</td>\n",
              "      <td>3.626667</td>\n",
              "      <td>30.025000</td>\n",
              "      <td>18.700000</td>\n",
              "      <td>31.500000</td>\n",
              "      <td>20.790000</td>\n",
              "      <td>39.066667</td>\n",
              "      <td>18.000000</td>\n",
              "      <td>38.500000</td>\n",
              "      <td>3.666667</td>\n",
              "      <td>750.933333</td>\n",
              "      <td>70.333333</td>\n",
              "      <td>2.000000</td>\n",
              "      <td>29.000000</td>\n",
              "      <td>0.900000</td>\n",
              "      <td>12.497889</td>\n",
              "      <td>12.497889</td>\n",
              "    </tr>\n",
              "    <tr>\n",
              "      <th>50%</th>\n",
              "      <td>60.000000</td>\n",
              "      <td>0.000000</td>\n",
              "      <td>21.600000</td>\n",
              "      <td>39.656667</td>\n",
              "      <td>20.000000</td>\n",
              "      <td>40.500000</td>\n",
              "      <td>22.100000</td>\n",
              "      <td>38.530000</td>\n",
              "      <td>20.666667</td>\n",
              "      <td>38.400000</td>\n",
              "      <td>19.390000</td>\n",
              "      <td>49.090000</td>\n",
              "      <td>7.300000</td>\n",
              "      <td>55.290000</td>\n",
              "      <td>20.033333</td>\n",
              "      <td>34.863333</td>\n",
              "      <td>22.100000</td>\n",
              "      <td>42.375000</td>\n",
              "      <td>19.390000</td>\n",
              "      <td>40.900000</td>\n",
              "      <td>6.916667</td>\n",
              "      <td>756.100000</td>\n",
              "      <td>83.666667</td>\n",
              "      <td>3.666667</td>\n",
              "      <td>40.000000</td>\n",
              "      <td>3.433333</td>\n",
              "      <td>24.897653</td>\n",
              "      <td>24.897653</td>\n",
              "    </tr>\n",
              "    <tr>\n",
              "      <th>75%</th>\n",
              "      <td>100.000000</td>\n",
              "      <td>0.000000</td>\n",
              "      <td>22.600000</td>\n",
              "      <td>43.066667</td>\n",
              "      <td>21.500000</td>\n",
              "      <td>43.260000</td>\n",
              "      <td>23.290000</td>\n",
              "      <td>41.760000</td>\n",
              "      <td>22.100000</td>\n",
              "      <td>42.156667</td>\n",
              "      <td>20.619643</td>\n",
              "      <td>53.663333</td>\n",
              "      <td>11.256000</td>\n",
              "      <td>83.226667</td>\n",
              "      <td>21.600000</td>\n",
              "      <td>39.000000</td>\n",
              "      <td>23.390000</td>\n",
              "      <td>46.536000</td>\n",
              "      <td>20.600000</td>\n",
              "      <td>44.338095</td>\n",
              "      <td>10.408333</td>\n",
              "      <td>760.933333</td>\n",
              "      <td>91.666667</td>\n",
              "      <td>5.500000</td>\n",
              "      <td>40.000000</td>\n",
              "      <td>6.566667</td>\n",
              "      <td>37.583769</td>\n",
              "      <td>37.583769</td>\n",
              "    </tr>\n",
              "    <tr>\n",
              "      <th>max</th>\n",
              "      <td>1080.000000</td>\n",
              "      <td>70.000000</td>\n",
              "      <td>26.260000</td>\n",
              "      <td>63.360000</td>\n",
              "      <td>29.856667</td>\n",
              "      <td>56.026667</td>\n",
              "      <td>29.236000</td>\n",
              "      <td>50.163333</td>\n",
              "      <td>26.200000</td>\n",
              "      <td>51.090000</td>\n",
              "      <td>25.795000</td>\n",
              "      <td>96.321667</td>\n",
              "      <td>28.290000</td>\n",
              "      <td>99.900000</td>\n",
              "      <td>26.000000</td>\n",
              "      <td>51.400000</td>\n",
              "      <td>27.230000</td>\n",
              "      <td>58.780000</td>\n",
              "      <td>24.500000</td>\n",
              "      <td>53.326667</td>\n",
              "      <td>26.100000</td>\n",
              "      <td>772.300000</td>\n",
              "      <td>100.000000</td>\n",
              "      <td>14.000000</td>\n",
              "      <td>66.000000</td>\n",
              "      <td>15.500000</td>\n",
              "      <td>49.996530</td>\n",
              "      <td>49.996530</td>\n",
              "    </tr>\n",
              "  </tbody>\n",
              "</table>\n",
              "</div>\n",
              "      <button class=\"colab-df-convert\" onclick=\"convertToInteractive('df-7c96ca3d-dd2e-44f5-89e6-5fe318b1406c')\"\n",
              "              title=\"Convert this dataframe to an interactive table.\"\n",
              "              style=\"display:none;\">\n",
              "        \n",
              "  <svg xmlns=\"http://www.w3.org/2000/svg\" height=\"24px\"viewBox=\"0 0 24 24\"\n",
              "       width=\"24px\">\n",
              "    <path d=\"M0 0h24v24H0V0z\" fill=\"none\"/>\n",
              "    <path d=\"M18.56 5.44l.94 2.06.94-2.06 2.06-.94-2.06-.94-.94-2.06-.94 2.06-2.06.94zm-11 1L8.5 8.5l.94-2.06 2.06-.94-2.06-.94L8.5 2.5l-.94 2.06-2.06.94zm10 10l.94 2.06.94-2.06 2.06-.94-2.06-.94-.94-2.06-.94 2.06-2.06.94z\"/><path d=\"M17.41 7.96l-1.37-1.37c-.4-.4-.92-.59-1.43-.59-.52 0-1.04.2-1.43.59L10.3 9.45l-7.72 7.72c-.78.78-.78 2.05 0 2.83L4 21.41c.39.39.9.59 1.41.59.51 0 1.02-.2 1.41-.59l7.78-7.78 2.81-2.81c.8-.78.8-2.07 0-2.86zM5.41 20L4 18.59l7.72-7.72 1.47 1.35L5.41 20z\"/>\n",
              "  </svg>\n",
              "      </button>\n",
              "      \n",
              "  <style>\n",
              "    .colab-df-container {\n",
              "      display:flex;\n",
              "      flex-wrap:wrap;\n",
              "      gap: 12px;\n",
              "    }\n",
              "\n",
              "    .colab-df-convert {\n",
              "      background-color: #E8F0FE;\n",
              "      border: none;\n",
              "      border-radius: 50%;\n",
              "      cursor: pointer;\n",
              "      display: none;\n",
              "      fill: #1967D2;\n",
              "      height: 32px;\n",
              "      padding: 0 0 0 0;\n",
              "      width: 32px;\n",
              "    }\n",
              "\n",
              "    .colab-df-convert:hover {\n",
              "      background-color: #E2EBFA;\n",
              "      box-shadow: 0px 1px 2px rgba(60, 64, 67, 0.3), 0px 1px 3px 1px rgba(60, 64, 67, 0.15);\n",
              "      fill: #174EA6;\n",
              "    }\n",
              "\n",
              "    [theme=dark] .colab-df-convert {\n",
              "      background-color: #3B4455;\n",
              "      fill: #D2E3FC;\n",
              "    }\n",
              "\n",
              "    [theme=dark] .colab-df-convert:hover {\n",
              "      background-color: #434B5C;\n",
              "      box-shadow: 0px 1px 3px 1px rgba(0, 0, 0, 0.15);\n",
              "      filter: drop-shadow(0px 1px 2px rgba(0, 0, 0, 0.3));\n",
              "      fill: #FFFFFF;\n",
              "    }\n",
              "  </style>\n",
              "\n",
              "      <script>\n",
              "        const buttonEl =\n",
              "          document.querySelector('#df-7c96ca3d-dd2e-44f5-89e6-5fe318b1406c button.colab-df-convert');\n",
              "        buttonEl.style.display =\n",
              "          google.colab.kernel.accessAllowed ? 'block' : 'none';\n",
              "\n",
              "        async function convertToInteractive(key) {\n",
              "          const element = document.querySelector('#df-7c96ca3d-dd2e-44f5-89e6-5fe318b1406c');\n",
              "          const dataTable =\n",
              "            await google.colab.kernel.invokeFunction('convertToInteractive',\n",
              "                                                     [key], {});\n",
              "          if (!dataTable) return;\n",
              "\n",
              "          const docLinkHtml = 'Like what you see? Visit the ' +\n",
              "            '<a target=\"_blank\" href=https://colab.research.google.com/notebooks/data_table.ipynb>data table notebook</a>'\n",
              "            + ' to learn more about interactive tables.';\n",
              "          element.innerHTML = '';\n",
              "          dataTable['output_type'] = 'display_data';\n",
              "          await google.colab.output.renderOutput(dataTable, element);\n",
              "          const docLink = document.createElement('div');\n",
              "          docLink.innerHTML = docLinkHtml;\n",
              "          element.appendChild(docLink);\n",
              "        }\n",
              "      </script>\n",
              "    </div>\n",
              "  </div>\n",
              "  "
            ],
            "text/plain": [
              "         Appliances        lights  ...           rv1           rv2\n",
              "count  19735.000000  19735.000000  ...  19735.000000  19735.000000\n",
              "mean      97.694958      3.801875  ...     24.988033     24.988033\n",
              "std      102.524891      7.935988  ...     14.496634     14.496634\n",
              "min       10.000000      0.000000  ...      0.005322      0.005322\n",
              "25%       50.000000      0.000000  ...     12.497889     12.497889\n",
              "50%       60.000000      0.000000  ...     24.897653     24.897653\n",
              "75%      100.000000      0.000000  ...     37.583769     37.583769\n",
              "max     1080.000000     70.000000  ...     49.996530     49.996530\n",
              "\n",
              "[8 rows x 28 columns]"
            ]
          },
          "metadata": {},
          "execution_count": 26
        }
      ]
    },
    {
      "cell_type": "code",
      "source": [
        "df.isnull().sum()"
      ],
      "metadata": {
        "colab": {
          "base_uri": "https://localhost:8080/"
        },
        "id": "79ad1HHsVJHz",
        "outputId": "bbb1f6cb-bc01-4510-c449-7aac718b770d"
      },
      "execution_count": null,
      "outputs": [
        {
          "output_type": "execute_result",
          "data": {
            "text/plain": [
              "date           0\n",
              "Appliances     0\n",
              "lights         0\n",
              "T1             0\n",
              "RH_1           0\n",
              "T2             0\n",
              "RH_2           0\n",
              "T3             0\n",
              "RH_3           0\n",
              "T4             0\n",
              "RH_4           0\n",
              "T5             0\n",
              "RH_5           0\n",
              "T6             0\n",
              "RH_6           0\n",
              "T7             0\n",
              "RH_7           0\n",
              "T8             0\n",
              "RH_8           0\n",
              "T9             0\n",
              "RH_9           0\n",
              "T_out          0\n",
              "Press_mm_hg    0\n",
              "RH_out         0\n",
              "Windspeed      0\n",
              "Visibility     0\n",
              "Tdewpoint      0\n",
              "rv1            0\n",
              "rv2            0\n",
              "dtype: int64"
            ]
          },
          "metadata": {},
          "execution_count": 27
        }
      ]
    },
    {
      "cell_type": "code",
      "source": [
        "plt.figure(figsize=(16,10))\n",
        "plt.subplot(3,2,1)\n",
        "sns.regplot(x='T1', y='Appliances', data=df)\n",
        "plt.subplot(3,2,2)\n",
        "sns.regplot(x='RH_1', y='Appliances', data=df)\n",
        "plt.subplot(3,2,3)\n",
        "sns.regplot(x='T_out', y='Appliances', data=df)\n",
        "plt.subplot(3,2,4)\n",
        "sns.regplot(x='Press_mm_hg', y='Appliances', data=df)\n",
        "plt.subplot(3,2,5)\n",
        "sns.regplot(x='Windspeed', y='Appliances', data=df)\n",
        "plt.subplot(3,2,6)\n",
        "sns.regplot(x='Visibility', y='Appliances', data=df)"
      ],
      "metadata": {
        "colab": {
          "base_uri": "https://localhost:8080/",
          "height": 623
        },
        "id": "BPlzsup9RaLP",
        "outputId": "b3bbfdbd-49db-4a1a-d3cc-da355cb87e68"
      },
      "execution_count": null,
      "outputs": [
        {
          "output_type": "execute_result",
          "data": {
            "text/plain": [
              "<matplotlib.axes._subplots.AxesSubplot at 0x7f1fae7773d0>"
            ]
          },
          "metadata": {},
          "execution_count": 24
        },
        {
          "output_type": "display_data",
          "data": {
            "image/png": "[encoded data removed]",
            "text/plain": [
              "<Figure size 1152x720 with 6 Axes>"
            ]
          },
          "metadata": {
            "needs_background": "light"
          }
        }
      ]
    },
    {
      "cell_type": "code",
      "source": [
        "#check if it's normally distributed\n",
        "plt.hist(df['Appliances']) #from the plots below, it is not"
      ],
      "metadata": {
        "colab": {
          "base_uri": "https://localhost:8080/",
          "height": 352
        },
        "id": "Jozn1rapUSfP",
        "outputId": "c50f81b0-db96-4ced-c9af-d6ff64ba37c9"
      },
      "execution_count": null,
      "outputs": [
        {
          "output_type": "execute_result",
          "data": {
            "text/plain": [
              "(array([1.6238e+04, 1.7230e+03, 8.3900e+02, 4.9300e+02, 2.1200e+02,\n",
              "        1.3000e+02, 6.9000e+01, 2.4000e+01, 5.0000e+00, 2.0000e+00]),\n",
              " array([  10.,  117.,  224.,  331.,  438.,  545.,  652.,  759.,  866.,\n",
              "         973., 1080.]),\n",
              " <a list of 10 Patch objects>)"
            ]
          },
          "metadata": {},
          "execution_count": 25
        },
        {
          "output_type": "display_data",
          "data": {
            "image/png": "[encoded data removed]",
            "text/plain": [
              "<Figure size 432x288 with 1 Axes>"
            ]
          },
          "metadata": {
            "needs_background": "light"
          }
        }
      ]
    },
    {
      "cell_type": "code",
      "source": [
        "#taking the log to normalize the data\n",
        "df['norm_appliances'] = np.log(df['Appliances'])"
      ],
      "metadata": {
        "id": "mBJhB0GfVC27"
      },
      "execution_count": null,
      "outputs": []
    },
    {
      "cell_type": "code",
      "source": [
        "df = pd.read_csv('norm_data.csv')"
      ],
      "metadata": {
        "id": "xkCpUS5Rbab0"
      },
      "execution_count": 16,
      "outputs": []
    },
    {
      "cell_type": "code",
      "source": [
        "plt.hist(df['norm_appliances']) # it is now normalized"
      ],
      "metadata": {
        "colab": {
          "base_uri": "https://localhost:8080/",
          "height": 369
        },
        "id": "uN41Qy8CVVq4",
        "outputId": "99c674ee-e90f-4a4f-f085-bd36b2253a35"
      },
      "execution_count": 6,
      "outputs": [
        {
          "output_type": "execute_result",
          "data": {
            "text/plain": [
              "(array([   9.,  340., 2638., 6455., 4010., 1703.,  661.,  867.,  329.,\n",
              "          80.]),\n",
              " array([2.30258509, 2.77079822, 3.23901134, 3.70722446, 4.17543758,\n",
              "        4.64365071, 5.11186383, 5.58007695, 6.04829007, 6.5165032 ,\n",
              "        6.98471632]),\n",
              " <a list of 10 Patch objects>)"
            ]
          },
          "metadata": {},
          "execution_count": 6
        },
        {
          "output_type": "display_data",
          "data": {
            "image/png": "[encoded data removed]",
            "text/plain": [
              "<Figure size 432x288 with 1 Axes>"
            ]
          },
          "metadata": {
            "needs_background": "light"
          }
        }
      ]
    },
    {
      "cell_type": "code",
      "source": [
        "#checking for correlation\n",
        "df.corr()"
      ],
      "metadata": {
        "colab": {
          "base_uri": "https://localhost:8080/",
          "height": 1000
        },
        "id": "tiGqAYk9VsTM",
        "outputId": "57e5855a-d76e-41a6-b017-3099f364879f"
      },
      "execution_count": null,
      "outputs": [
        {
          "output_type": "execute_result",
          "data": {
            "text/html": [
              "\n",
              "  <div id=\"df-29d8bca9-3f1f-4f6a-b1d3-011a9a63eddd\">\n",
              "    <div class=\"colab-df-container\">\n",
              "      <div>\n",
              "<style scoped>\n",
              "    .dataframe tbody tr th:only-of-type {\n",
              "        vertical-align: middle;\n",
              "    }\n",
              "\n",
              "    .dataframe tbody tr th {\n",
              "        vertical-align: top;\n",
              "    }\n",
              "\n",
              "    .dataframe thead th {\n",
              "        text-align: right;\n",
              "    }\n",
              "</style>\n",
              "<table border=\"1\" class=\"dataframe\">\n",
              "  <thead>\n",
              "    <tr style=\"text-align: right;\">\n",
              "      <th></th>\n",
              "      <th>Appliances</th>\n",
              "      <th>lights</th>\n",
              "      <th>T1</th>\n",
              "      <th>RH_1</th>\n",
              "      <th>T2</th>\n",
              "      <th>RH_2</th>\n",
              "      <th>T3</th>\n",
              "      <th>RH_3</th>\n",
              "      <th>T4</th>\n",
              "      <th>RH_4</th>\n",
              "      <th>T5</th>\n",
              "      <th>RH_5</th>\n",
              "      <th>T6</th>\n",
              "      <th>RH_6</th>\n",
              "      <th>T7</th>\n",
              "      <th>RH_7</th>\n",
              "      <th>T8</th>\n",
              "      <th>RH_8</th>\n",
              "      <th>T9</th>\n",
              "      <th>RH_9</th>\n",
              "      <th>T_out</th>\n",
              "      <th>Press_mm_hg</th>\n",
              "      <th>RH_out</th>\n",
              "      <th>Windspeed</th>\n",
              "      <th>Visibility</th>\n",
              "      <th>Tdewpoint</th>\n",
              "      <th>rv1</th>\n",
              "      <th>rv2</th>\n",
              "      <th>norm_appliances</th>\n",
              "    </tr>\n",
              "  </thead>\n",
              "  <tbody>\n",
              "    <tr>\n",
              "      <th>Appliances</th>\n",
              "      <td>1.000000</td>\n",
              "      <td>0.197278</td>\n",
              "      <td>0.055447</td>\n",
              "      <td>0.086031</td>\n",
              "      <td>0.120073</td>\n",
              "      <td>-0.060465</td>\n",
              "      <td>0.085060</td>\n",
              "      <td>0.036292</td>\n",
              "      <td>0.040281</td>\n",
              "      <td>0.016965</td>\n",
              "      <td>0.019760</td>\n",
              "      <td>0.006955</td>\n",
              "      <td>0.117638</td>\n",
              "      <td>-0.083178</td>\n",
              "      <td>0.025801</td>\n",
              "      <td>-0.055642</td>\n",
              "      <td>0.039572</td>\n",
              "      <td>-0.094039</td>\n",
              "      <td>0.010010</td>\n",
              "      <td>-0.051462</td>\n",
              "      <td>0.099155</td>\n",
              "      <td>-0.034885</td>\n",
              "      <td>-0.152282</td>\n",
              "      <td>0.087122</td>\n",
              "      <td>0.000230</td>\n",
              "      <td>0.015353</td>\n",
              "      <td>-0.011145</td>\n",
              "      <td>-0.011145</td>\n",
              "      <td>0.900397</td>\n",
              "    </tr>\n",
              "    <tr>\n",
              "      <th>lights</th>\n",
              "      <td>0.197278</td>\n",
              "      <td>1.000000</td>\n",
              "      <td>-0.023528</td>\n",
              "      <td>0.106968</td>\n",
              "      <td>-0.005622</td>\n",
              "      <td>0.050985</td>\n",
              "      <td>-0.097393</td>\n",
              "      <td>0.131161</td>\n",
              "      <td>-0.008859</td>\n",
              "      <td>0.114936</td>\n",
              "      <td>-0.078745</td>\n",
              "      <td>0.141233</td>\n",
              "      <td>-0.079029</td>\n",
              "      <td>0.153756</td>\n",
              "      <td>-0.135347</td>\n",
              "      <td>0.035069</td>\n",
              "      <td>-0.071458</td>\n",
              "      <td>0.012915</td>\n",
              "      <td>-0.157592</td>\n",
              "      <td>-0.008766</td>\n",
              "      <td>-0.074424</td>\n",
              "      <td>-0.010576</td>\n",
              "      <td>0.068543</td>\n",
              "      <td>0.060281</td>\n",
              "      <td>0.020038</td>\n",
              "      <td>-0.036322</td>\n",
              "      <td>0.000521</td>\n",
              "      <td>0.000521</td>\n",
              "      <td>0.261442</td>\n",
              "    </tr>\n",
              "    <tr>\n",
              "      <th>T1</th>\n",
              "      <td>0.055447</td>\n",
              "      <td>-0.023528</td>\n",
              "      <td>1.000000</td>\n",
              "      <td>0.164006</td>\n",
              "      <td>0.836834</td>\n",
              "      <td>-0.002509</td>\n",
              "      <td>0.892402</td>\n",
              "      <td>-0.028550</td>\n",
              "      <td>0.877001</td>\n",
              "      <td>0.097861</td>\n",
              "      <td>0.885247</td>\n",
              "      <td>-0.014782</td>\n",
              "      <td>0.654769</td>\n",
              "      <td>-0.615045</td>\n",
              "      <td>0.838705</td>\n",
              "      <td>0.135182</td>\n",
              "      <td>0.825413</td>\n",
              "      <td>-0.006441</td>\n",
              "      <td>0.844777</td>\n",
              "      <td>0.071756</td>\n",
              "      <td>0.682846</td>\n",
              "      <td>-0.150574</td>\n",
              "      <td>-0.345481</td>\n",
              "      <td>-0.087654</td>\n",
              "      <td>-0.076210</td>\n",
              "      <td>0.571309</td>\n",
              "      <td>-0.006203</td>\n",
              "      <td>-0.006203</td>\n",
              "      <td>0.160747</td>\n",
              "    </tr>\n",
              "    <tr>\n",
              "      <th>RH_1</th>\n",
              "      <td>0.086031</td>\n",
              "      <td>0.106968</td>\n",
              "      <td>0.164006</td>\n",
              "      <td>1.000000</td>\n",
              "      <td>0.269839</td>\n",
              "      <td>0.797535</td>\n",
              "      <td>0.253230</td>\n",
              "      <td>0.844677</td>\n",
              "      <td>0.106180</td>\n",
              "      <td>0.880359</td>\n",
              "      <td>0.205797</td>\n",
              "      <td>0.303258</td>\n",
              "      <td>0.316141</td>\n",
              "      <td>0.245126</td>\n",
              "      <td>0.021397</td>\n",
              "      <td>0.801122</td>\n",
              "      <td>-0.030053</td>\n",
              "      <td>0.736196</td>\n",
              "      <td>0.115263</td>\n",
              "      <td>0.764001</td>\n",
              "      <td>0.340767</td>\n",
              "      <td>-0.293957</td>\n",
              "      <td>0.274126</td>\n",
              "      <td>0.204932</td>\n",
              "      <td>-0.021057</td>\n",
              "      <td>0.639106</td>\n",
              "      <td>-0.000699</td>\n",
              "      <td>-0.000699</td>\n",
              "      <td>0.084457</td>\n",
              "    </tr>\n",
              "    <tr>\n",
              "      <th>T2</th>\n",
              "      <td>0.120073</td>\n",
              "      <td>-0.005622</td>\n",
              "      <td>0.836834</td>\n",
              "      <td>0.269839</td>\n",
              "      <td>1.000000</td>\n",
              "      <td>-0.165610</td>\n",
              "      <td>0.735245</td>\n",
              "      <td>0.121497</td>\n",
              "      <td>0.762066</td>\n",
              "      <td>0.231563</td>\n",
              "      <td>0.720550</td>\n",
              "      <td>0.029595</td>\n",
              "      <td>0.801186</td>\n",
              "      <td>-0.580372</td>\n",
              "      <td>0.663660</td>\n",
              "      <td>0.229212</td>\n",
              "      <td>0.578191</td>\n",
              "      <td>0.068534</td>\n",
              "      <td>0.675535</td>\n",
              "      <td>0.157346</td>\n",
              "      <td>0.792255</td>\n",
              "      <td>-0.133028</td>\n",
              "      <td>-0.505291</td>\n",
              "      <td>0.052495</td>\n",
              "      <td>-0.069721</td>\n",
              "      <td>0.582602</td>\n",
              "      <td>-0.011087</td>\n",
              "      <td>-0.011087</td>\n",
              "      <td>0.214756</td>\n",
              "    </tr>\n",
              "    <tr>\n",
              "      <th>RH_2</th>\n",
              "      <td>-0.060465</td>\n",
              "      <td>0.050985</td>\n",
              "      <td>-0.002509</td>\n",
              "      <td>0.797535</td>\n",
              "      <td>-0.165610</td>\n",
              "      <td>1.000000</td>\n",
              "      <td>0.137319</td>\n",
              "      <td>0.678326</td>\n",
              "      <td>-0.047304</td>\n",
              "      <td>0.721435</td>\n",
              "      <td>0.110409</td>\n",
              "      <td>0.250271</td>\n",
              "      <td>-0.009670</td>\n",
              "      <td>0.389933</td>\n",
              "      <td>-0.051422</td>\n",
              "      <td>0.690584</td>\n",
              "      <td>-0.041023</td>\n",
              "      <td>0.679777</td>\n",
              "      <td>0.054544</td>\n",
              "      <td>0.676467</td>\n",
              "      <td>0.033674</td>\n",
              "      <td>-0.255646</td>\n",
              "      <td>0.584911</td>\n",
              "      <td>0.069190</td>\n",
              "      <td>-0.005368</td>\n",
              "      <td>0.499152</td>\n",
              "      <td>0.006275</td>\n",
              "      <td>0.006275</td>\n",
              "      <td>-0.093674</td>\n",
              "    </tr>\n",
              "    <tr>\n",
              "      <th>T3</th>\n",
              "      <td>0.085060</td>\n",
              "      <td>-0.097393</td>\n",
              "      <td>0.892402</td>\n",
              "      <td>0.253230</td>\n",
              "      <td>0.735245</td>\n",
              "      <td>0.137319</td>\n",
              "      <td>1.000000</td>\n",
              "      <td>-0.011234</td>\n",
              "      <td>0.852778</td>\n",
              "      <td>0.122737</td>\n",
              "      <td>0.888169</td>\n",
              "      <td>-0.066355</td>\n",
              "      <td>0.686882</td>\n",
              "      <td>-0.647672</td>\n",
              "      <td>0.847374</td>\n",
              "      <td>0.172624</td>\n",
              "      <td>0.795283</td>\n",
              "      <td>0.044427</td>\n",
              "      <td>0.901324</td>\n",
              "      <td>0.134602</td>\n",
              "      <td>0.699417</td>\n",
              "      <td>-0.189974</td>\n",
              "      <td>-0.281718</td>\n",
              "      <td>-0.100776</td>\n",
              "      <td>-0.102310</td>\n",
              "      <td>0.645886</td>\n",
              "      <td>-0.005194</td>\n",
              "      <td>-0.005194</td>\n",
              "      <td>0.167221</td>\n",
              "    </tr>\n",
              "    <tr>\n",
              "      <th>RH_3</th>\n",
              "      <td>0.036292</td>\n",
              "      <td>0.131161</td>\n",
              "      <td>-0.028550</td>\n",
              "      <td>0.844677</td>\n",
              "      <td>0.121497</td>\n",
              "      <td>0.678326</td>\n",
              "      <td>-0.011234</td>\n",
              "      <td>1.000000</td>\n",
              "      <td>-0.140457</td>\n",
              "      <td>0.898978</td>\n",
              "      <td>-0.050062</td>\n",
              "      <td>0.375422</td>\n",
              "      <td>0.076833</td>\n",
              "      <td>0.514912</td>\n",
              "      <td>-0.250090</td>\n",
              "      <td>0.832685</td>\n",
              "      <td>-0.283228</td>\n",
              "      <td>0.828822</td>\n",
              "      <td>-0.195270</td>\n",
              "      <td>0.833538</td>\n",
              "      <td>0.118207</td>\n",
              "      <td>-0.233274</td>\n",
              "      <td>0.356192</td>\n",
              "      <td>0.263188</td>\n",
              "      <td>0.017041</td>\n",
              "      <td>0.414387</td>\n",
              "      <td>-0.000477</td>\n",
              "      <td>-0.000477</td>\n",
              "      <td>-0.006462</td>\n",
              "    </tr>\n",
              "    <tr>\n",
              "      <th>T4</th>\n",
              "      <td>0.040281</td>\n",
              "      <td>-0.008859</td>\n",
              "      <td>0.877001</td>\n",
              "      <td>0.106180</td>\n",
              "      <td>0.762066</td>\n",
              "      <td>-0.047304</td>\n",
              "      <td>0.852778</td>\n",
              "      <td>-0.140457</td>\n",
              "      <td>1.000000</td>\n",
              "      <td>-0.048650</td>\n",
              "      <td>0.871813</td>\n",
              "      <td>-0.076489</td>\n",
              "      <td>0.652350</td>\n",
              "      <td>-0.703149</td>\n",
              "      <td>0.877763</td>\n",
              "      <td>0.043527</td>\n",
              "      <td>0.796256</td>\n",
              "      <td>-0.095192</td>\n",
              "      <td>0.889439</td>\n",
              "      <td>-0.025549</td>\n",
              "      <td>0.663478</td>\n",
              "      <td>-0.075292</td>\n",
              "      <td>-0.388602</td>\n",
              "      <td>-0.185747</td>\n",
              "      <td>-0.104768</td>\n",
              "      <td>0.519471</td>\n",
              "      <td>-0.001815</td>\n",
              "      <td>-0.001815</td>\n",
              "      <td>0.132359</td>\n",
              "    </tr>\n",
              "    <tr>\n",
              "      <th>RH_4</th>\n",
              "      <td>0.016965</td>\n",
              "      <td>0.114936</td>\n",
              "      <td>0.097861</td>\n",
              "      <td>0.880359</td>\n",
              "      <td>0.231563</td>\n",
              "      <td>0.721435</td>\n",
              "      <td>0.122737</td>\n",
              "      <td>0.898978</td>\n",
              "      <td>-0.048650</td>\n",
              "      <td>1.000000</td>\n",
              "      <td>0.091812</td>\n",
              "      <td>0.352591</td>\n",
              "      <td>0.259047</td>\n",
              "      <td>0.392178</td>\n",
              "      <td>-0.131204</td>\n",
              "      <td>0.894301</td>\n",
              "      <td>-0.167066</td>\n",
              "      <td>0.847259</td>\n",
              "      <td>-0.044518</td>\n",
              "      <td>0.856591</td>\n",
              "      <td>0.293289</td>\n",
              "      <td>-0.250748</td>\n",
              "      <td>0.336813</td>\n",
              "      <td>0.300192</td>\n",
              "      <td>0.002636</td>\n",
              "      <td>0.616509</td>\n",
              "      <td>-0.001787</td>\n",
              "      <td>-0.001787</td>\n",
              "      <td>-0.006533</td>\n",
              "    </tr>\n",
              "    <tr>\n",
              "      <th>T5</th>\n",
              "      <td>0.019760</td>\n",
              "      <td>-0.078745</td>\n",
              "      <td>0.885247</td>\n",
              "      <td>0.205797</td>\n",
              "      <td>0.720550</td>\n",
              "      <td>0.110409</td>\n",
              "      <td>0.888169</td>\n",
              "      <td>-0.050062</td>\n",
              "      <td>0.871813</td>\n",
              "      <td>0.091812</td>\n",
              "      <td>1.000000</td>\n",
              "      <td>0.032786</td>\n",
              "      <td>0.629161</td>\n",
              "      <td>-0.632384</td>\n",
              "      <td>0.870624</td>\n",
              "      <td>0.148905</td>\n",
              "      <td>0.824981</td>\n",
              "      <td>0.016388</td>\n",
              "      <td>0.911055</td>\n",
              "      <td>0.072308</td>\n",
              "      <td>0.651321</td>\n",
              "      <td>-0.170999</td>\n",
              "      <td>-0.273953</td>\n",
              "      <td>-0.145011</td>\n",
              "      <td>-0.084164</td>\n",
              "      <td>0.588362</td>\n",
              "      <td>-0.005490</td>\n",
              "      <td>-0.005490</td>\n",
              "      <td>0.110099</td>\n",
              "    </tr>\n",
              "    <tr>\n",
              "      <th>RH_5</th>\n",
              "      <td>0.006955</td>\n",
              "      <td>0.141233</td>\n",
              "      <td>-0.014782</td>\n",
              "      <td>0.303258</td>\n",
              "      <td>0.029595</td>\n",
              "      <td>0.250271</td>\n",
              "      <td>-0.066355</td>\n",
              "      <td>0.375422</td>\n",
              "      <td>-0.076489</td>\n",
              "      <td>0.352591</td>\n",
              "      <td>0.032786</td>\n",
              "      <td>1.000000</td>\n",
              "      <td>-0.078337</td>\n",
              "      <td>0.263797</td>\n",
              "      <td>-0.142823</td>\n",
              "      <td>0.325808</td>\n",
              "      <td>-0.086991</td>\n",
              "      <td>0.359840</td>\n",
              "      <td>-0.138509</td>\n",
              "      <td>0.272197</td>\n",
              "      <td>-0.053126</td>\n",
              "      <td>-0.119327</td>\n",
              "      <td>0.185941</td>\n",
              "      <td>0.082044</td>\n",
              "      <td>-0.013133</td>\n",
              "      <td>0.078175</td>\n",
              "      <td>-0.011056</td>\n",
              "      <td>-0.011056</td>\n",
              "      <td>0.024312</td>\n",
              "    </tr>\n",
              "    <tr>\n",
              "      <th>T6</th>\n",
              "      <td>0.117638</td>\n",
              "      <td>-0.079029</td>\n",
              "      <td>0.654769</td>\n",
              "      <td>0.316141</td>\n",
              "      <td>0.801186</td>\n",
              "      <td>-0.009670</td>\n",
              "      <td>0.686882</td>\n",
              "      <td>0.076833</td>\n",
              "      <td>0.652350</td>\n",
              "      <td>0.259047</td>\n",
              "      <td>0.629161</td>\n",
              "      <td>-0.078337</td>\n",
              "      <td>1.000000</td>\n",
              "      <td>-0.672137</td>\n",
              "      <td>0.619085</td>\n",
              "      <td>0.256077</td>\n",
              "      <td>0.482836</td>\n",
              "      <td>0.073721</td>\n",
              "      <td>0.667177</td>\n",
              "      <td>0.184424</td>\n",
              "      <td>0.974787</td>\n",
              "      <td>-0.141643</td>\n",
              "      <td>-0.569119</td>\n",
              "      <td>0.169185</td>\n",
              "      <td>-0.081313</td>\n",
              "      <td>0.764242</td>\n",
              "      <td>-0.015086</td>\n",
              "      <td>-0.015086</td>\n",
              "      <td>0.196546</td>\n",
              "    </tr>\n",
              "    <tr>\n",
              "      <th>RH_6</th>\n",
              "      <td>-0.083178</td>\n",
              "      <td>0.153756</td>\n",
              "      <td>-0.615045</td>\n",
              "      <td>0.245126</td>\n",
              "      <td>-0.580372</td>\n",
              "      <td>0.389933</td>\n",
              "      <td>-0.647672</td>\n",
              "      <td>0.514912</td>\n",
              "      <td>-0.703149</td>\n",
              "      <td>0.392178</td>\n",
              "      <td>-0.632384</td>\n",
              "      <td>0.263797</td>\n",
              "      <td>-0.672137</td>\n",
              "      <td>1.000000</td>\n",
              "      <td>-0.753973</td>\n",
              "      <td>0.357222</td>\n",
              "      <td>-0.665869</td>\n",
              "      <td>0.489580</td>\n",
              "      <td>-0.738940</td>\n",
              "      <td>0.391943</td>\n",
              "      <td>-0.641572</td>\n",
              "      <td>-0.065814</td>\n",
              "      <td>0.718587</td>\n",
              "      <td>0.098317</td>\n",
              "      <td>0.108705</td>\n",
              "      <td>-0.260417</td>\n",
              "      <td>0.011671</td>\n",
              "      <td>0.011671</td>\n",
              "      <td>-0.174133</td>\n",
              "    </tr>\n",
              "    <tr>\n",
              "      <th>T7</th>\n",
              "      <td>0.025801</td>\n",
              "      <td>-0.135347</td>\n",
              "      <td>0.838705</td>\n",
              "      <td>0.021397</td>\n",
              "      <td>0.663660</td>\n",
              "      <td>-0.051422</td>\n",
              "      <td>0.847374</td>\n",
              "      <td>-0.250090</td>\n",
              "      <td>0.877763</td>\n",
              "      <td>-0.131204</td>\n",
              "      <td>0.870624</td>\n",
              "      <td>-0.142823</td>\n",
              "      <td>0.619085</td>\n",
              "      <td>-0.753973</td>\n",
              "      <td>1.000000</td>\n",
              "      <td>-0.033948</td>\n",
              "      <td>0.882123</td>\n",
              "      <td>-0.209961</td>\n",
              "      <td>0.944776</td>\n",
              "      <td>-0.077690</td>\n",
              "      <td>0.631293</td>\n",
              "      <td>-0.097724</td>\n",
              "      <td>-0.411213</td>\n",
              "      <td>-0.185892</td>\n",
              "      <td>-0.110089</td>\n",
              "      <td>0.466625</td>\n",
              "      <td>-0.003900</td>\n",
              "      <td>-0.003900</td>\n",
              "      <td>0.110415</td>\n",
              "    </tr>\n",
              "    <tr>\n",
              "      <th>RH_7</th>\n",
              "      <td>-0.055642</td>\n",
              "      <td>0.035069</td>\n",
              "      <td>0.135182</td>\n",
              "      <td>0.801122</td>\n",
              "      <td>0.229212</td>\n",
              "      <td>0.690584</td>\n",
              "      <td>0.172624</td>\n",
              "      <td>0.832685</td>\n",
              "      <td>0.043527</td>\n",
              "      <td>0.894301</td>\n",
              "      <td>0.148905</td>\n",
              "      <td>0.325808</td>\n",
              "      <td>0.256077</td>\n",
              "      <td>0.357222</td>\n",
              "      <td>-0.033948</td>\n",
              "      <td>1.000000</td>\n",
              "      <td>-0.124102</td>\n",
              "      <td>0.883984</td>\n",
              "      <td>0.028055</td>\n",
              "      <td>0.858686</td>\n",
              "      <td>0.294199</td>\n",
              "      <td>-0.265850</td>\n",
              "      <td>0.378519</td>\n",
              "      <td>0.212979</td>\n",
              "      <td>-0.007184</td>\n",
              "      <td>0.641857</td>\n",
              "      <td>0.001820</td>\n",
              "      <td>0.001820</td>\n",
              "      <td>-0.096231</td>\n",
              "    </tr>\n",
              "    <tr>\n",
              "      <th>T8</th>\n",
              "      <td>0.039572</td>\n",
              "      <td>-0.071458</td>\n",
              "      <td>0.825413</td>\n",
              "      <td>-0.030053</td>\n",
              "      <td>0.578191</td>\n",
              "      <td>-0.041023</td>\n",
              "      <td>0.795283</td>\n",
              "      <td>-0.283228</td>\n",
              "      <td>0.796256</td>\n",
              "      <td>-0.167066</td>\n",
              "      <td>0.824981</td>\n",
              "      <td>-0.086991</td>\n",
              "      <td>0.482836</td>\n",
              "      <td>-0.665869</td>\n",
              "      <td>0.882123</td>\n",
              "      <td>-0.124102</td>\n",
              "      <td>1.000000</td>\n",
              "      <td>-0.209532</td>\n",
              "      <td>0.869338</td>\n",
              "      <td>-0.156820</td>\n",
              "      <td>0.502842</td>\n",
              "      <td>-0.162855</td>\n",
              "      <td>-0.300438</td>\n",
              "      <td>-0.218876</td>\n",
              "      <td>-0.060098</td>\n",
              "      <td>0.391810</td>\n",
              "      <td>-0.003210</td>\n",
              "      <td>-0.003210</td>\n",
              "      <td>0.153917</td>\n",
              "    </tr>\n",
              "    <tr>\n",
              "      <th>RH_8</th>\n",
              "      <td>-0.094039</td>\n",
              "      <td>0.012915</td>\n",
              "      <td>-0.006441</td>\n",
              "      <td>0.736196</td>\n",
              "      <td>0.068534</td>\n",
              "      <td>0.679777</td>\n",
              "      <td>0.044427</td>\n",
              "      <td>0.828822</td>\n",
              "      <td>-0.095192</td>\n",
              "      <td>0.847259</td>\n",
              "      <td>0.016388</td>\n",
              "      <td>0.359840</td>\n",
              "      <td>0.073721</td>\n",
              "      <td>0.489580</td>\n",
              "      <td>-0.209961</td>\n",
              "      <td>0.883984</td>\n",
              "      <td>-0.209532</td>\n",
              "      <td>1.000000</td>\n",
              "      <td>-0.113014</td>\n",
              "      <td>0.855812</td>\n",
              "      <td>0.117141</td>\n",
              "      <td>-0.225591</td>\n",
              "      <td>0.487355</td>\n",
              "      <td>0.202380</td>\n",
              "      <td>0.046178</td>\n",
              "      <td>0.501775</td>\n",
              "      <td>0.004480</td>\n",
              "      <td>0.004480</td>\n",
              "      <td>-0.165397</td>\n",
              "    </tr>\n",
              "    <tr>\n",
              "      <th>T9</th>\n",
              "      <td>0.010010</td>\n",
              "      <td>-0.157592</td>\n",
              "      <td>0.844777</td>\n",
              "      <td>0.115263</td>\n",
              "      <td>0.675535</td>\n",
              "      <td>0.054544</td>\n",
              "      <td>0.901324</td>\n",
              "      <td>-0.195270</td>\n",
              "      <td>0.889439</td>\n",
              "      <td>-0.044518</td>\n",
              "      <td>0.911055</td>\n",
              "      <td>-0.138509</td>\n",
              "      <td>0.667177</td>\n",
              "      <td>-0.738940</td>\n",
              "      <td>0.944776</td>\n",
              "      <td>0.028055</td>\n",
              "      <td>0.869338</td>\n",
              "      <td>-0.113014</td>\n",
              "      <td>1.000000</td>\n",
              "      <td>-0.008683</td>\n",
              "      <td>0.668220</td>\n",
              "      <td>-0.156828</td>\n",
              "      <td>-0.318848</td>\n",
              "      <td>-0.177756</td>\n",
              "      <td>-0.103915</td>\n",
              "      <td>0.581483</td>\n",
              "      <td>-0.001227</td>\n",
              "      <td>-0.001227</td>\n",
              "      <td>0.092553</td>\n",
              "    </tr>\n",
              "    <tr>\n",
              "      <th>RH_9</th>\n",
              "      <td>-0.051462</td>\n",
              "      <td>-0.008766</td>\n",
              "      <td>0.071756</td>\n",
              "      <td>0.764001</td>\n",
              "      <td>0.157346</td>\n",
              "      <td>0.676467</td>\n",
              "      <td>0.134602</td>\n",
              "      <td>0.833538</td>\n",
              "      <td>-0.025549</td>\n",
              "      <td>0.856591</td>\n",
              "      <td>0.072308</td>\n",
              "      <td>0.272197</td>\n",
              "      <td>0.184424</td>\n",
              "      <td>0.391943</td>\n",
              "      <td>-0.077690</td>\n",
              "      <td>0.858686</td>\n",
              "      <td>-0.156820</td>\n",
              "      <td>0.855812</td>\n",
              "      <td>-0.008683</td>\n",
              "      <td>1.000000</td>\n",
              "      <td>0.223270</td>\n",
              "      <td>-0.183739</td>\n",
              "      <td>0.359377</td>\n",
              "      <td>0.238655</td>\n",
              "      <td>0.008667</td>\n",
              "      <td>0.540328</td>\n",
              "      <td>-0.002955</td>\n",
              "      <td>-0.002955</td>\n",
              "      <td>-0.115582</td>\n",
              "    </tr>\n",
              "    <tr>\n",
              "      <th>T_out</th>\n",
              "      <td>0.099155</td>\n",
              "      <td>-0.074424</td>\n",
              "      <td>0.682846</td>\n",
              "      <td>0.340767</td>\n",
              "      <td>0.792255</td>\n",
              "      <td>0.033674</td>\n",
              "      <td>0.699417</td>\n",
              "      <td>0.118207</td>\n",
              "      <td>0.663478</td>\n",
              "      <td>0.293289</td>\n",
              "      <td>0.651321</td>\n",
              "      <td>-0.053126</td>\n",
              "      <td>0.974787</td>\n",
              "      <td>-0.641572</td>\n",
              "      <td>0.631293</td>\n",
              "      <td>0.294199</td>\n",
              "      <td>0.502842</td>\n",
              "      <td>0.117141</td>\n",
              "      <td>0.668220</td>\n",
              "      <td>0.223270</td>\n",
              "      <td>1.000000</td>\n",
              "      <td>-0.143249</td>\n",
              "      <td>-0.574197</td>\n",
              "      <td>0.192936</td>\n",
              "      <td>-0.077367</td>\n",
              "      <td>0.790661</td>\n",
              "      <td>-0.015216</td>\n",
              "      <td>-0.015216</td>\n",
              "      <td>0.176161</td>\n",
              "    </tr>\n",
              "    <tr>\n",
              "      <th>Press_mm_hg</th>\n",
              "      <td>-0.034885</td>\n",
              "      <td>-0.010576</td>\n",
              "      <td>-0.150574</td>\n",
              "      <td>-0.293957</td>\n",
              "      <td>-0.133028</td>\n",
              "      <td>-0.255646</td>\n",
              "      <td>-0.189974</td>\n",
              "      <td>-0.233274</td>\n",
              "      <td>-0.075292</td>\n",
              "      <td>-0.250748</td>\n",
              "      <td>-0.170999</td>\n",
              "      <td>-0.119327</td>\n",
              "      <td>-0.141643</td>\n",
              "      <td>-0.065814</td>\n",
              "      <td>-0.097724</td>\n",
              "      <td>-0.265850</td>\n",
              "      <td>-0.162855</td>\n",
              "      <td>-0.225591</td>\n",
              "      <td>-0.156828</td>\n",
              "      <td>-0.183739</td>\n",
              "      <td>-0.143249</td>\n",
              "      <td>1.000000</td>\n",
              "      <td>-0.092017</td>\n",
              "      <td>-0.235032</td>\n",
              "      <td>0.040315</td>\n",
              "      <td>-0.244098</td>\n",
              "      <td>0.000699</td>\n",
              "      <td>0.000699</td>\n",
              "      <td>-0.072632</td>\n",
              "    </tr>\n",
              "    <tr>\n",
              "      <th>RH_out</th>\n",
              "      <td>-0.152282</td>\n",
              "      <td>0.068543</td>\n",
              "      <td>-0.345481</td>\n",
              "      <td>0.274126</td>\n",
              "      <td>-0.505291</td>\n",
              "      <td>0.584911</td>\n",
              "      <td>-0.281718</td>\n",
              "      <td>0.356192</td>\n",
              "      <td>-0.388602</td>\n",
              "      <td>0.336813</td>\n",
              "      <td>-0.273953</td>\n",
              "      <td>0.185941</td>\n",
              "      <td>-0.569119</td>\n",
              "      <td>0.718587</td>\n",
              "      <td>-0.411213</td>\n",
              "      <td>0.378519</td>\n",
              "      <td>-0.300438</td>\n",
              "      <td>0.487355</td>\n",
              "      <td>-0.318848</td>\n",
              "      <td>0.359377</td>\n",
              "      <td>-0.574197</td>\n",
              "      <td>-0.092017</td>\n",
              "      <td>1.000000</td>\n",
              "      <td>-0.176458</td>\n",
              "      <td>0.083125</td>\n",
              "      <td>0.036506</td>\n",
              "      <td>0.020441</td>\n",
              "      <td>0.020441</td>\n",
              "      <td>-0.226185</td>\n",
              "    </tr>\n",
              "    <tr>\n",
              "      <th>Windspeed</th>\n",
              "      <td>0.087122</td>\n",
              "      <td>0.060281</td>\n",
              "      <td>-0.087654</td>\n",
              "      <td>0.204932</td>\n",
              "      <td>0.052495</td>\n",
              "      <td>0.069190</td>\n",
              "      <td>-0.100776</td>\n",
              "      <td>0.263188</td>\n",
              "      <td>-0.185747</td>\n",
              "      <td>0.300192</td>\n",
              "      <td>-0.145011</td>\n",
              "      <td>0.082044</td>\n",
              "      <td>0.169185</td>\n",
              "      <td>0.098317</td>\n",
              "      <td>-0.185892</td>\n",
              "      <td>0.212979</td>\n",
              "      <td>-0.218876</td>\n",
              "      <td>0.202380</td>\n",
              "      <td>-0.177756</td>\n",
              "      <td>0.238655</td>\n",
              "      <td>0.192936</td>\n",
              "      <td>-0.235032</td>\n",
              "      <td>-0.176458</td>\n",
              "      <td>1.000000</td>\n",
              "      <td>-0.007516</td>\n",
              "      <td>0.125972</td>\n",
              "      <td>-0.011342</td>\n",
              "      <td>-0.011342</td>\n",
              "      <td>0.087722</td>\n",
              "    </tr>\n",
              "    <tr>\n",
              "      <th>Visibility</th>\n",
              "      <td>0.000230</td>\n",
              "      <td>0.020038</td>\n",
              "      <td>-0.076210</td>\n",
              "      <td>-0.021057</td>\n",
              "      <td>-0.069721</td>\n",
              "      <td>-0.005368</td>\n",
              "      <td>-0.102310</td>\n",
              "      <td>0.017041</td>\n",
              "      <td>-0.104768</td>\n",
              "      <td>0.002636</td>\n",
              "      <td>-0.084164</td>\n",
              "      <td>-0.013133</td>\n",
              "      <td>-0.081313</td>\n",
              "      <td>0.108705</td>\n",
              "      <td>-0.110089</td>\n",
              "      <td>-0.007184</td>\n",
              "      <td>-0.060098</td>\n",
              "      <td>0.046178</td>\n",
              "      <td>-0.103915</td>\n",
              "      <td>0.008667</td>\n",
              "      <td>-0.077367</td>\n",
              "      <td>0.040315</td>\n",
              "      <td>0.083125</td>\n",
              "      <td>-0.007516</td>\n",
              "      <td>1.000000</td>\n",
              "      <td>-0.042190</td>\n",
              "      <td>-0.005889</td>\n",
              "      <td>-0.005889</td>\n",
              "      <td>-0.010970</td>\n",
              "    </tr>\n",
              "    <tr>\n",
              "      <th>Tdewpoint</th>\n",
              "      <td>0.015353</td>\n",
              "      <td>-0.036322</td>\n",
              "      <td>0.571309</td>\n",
              "      <td>0.639106</td>\n",
              "      <td>0.582602</td>\n",
              "      <td>0.499152</td>\n",
              "      <td>0.645886</td>\n",
              "      <td>0.414387</td>\n",
              "      <td>0.519471</td>\n",
              "      <td>0.616509</td>\n",
              "      <td>0.588362</td>\n",
              "      <td>0.078175</td>\n",
              "      <td>0.764242</td>\n",
              "      <td>-0.260417</td>\n",
              "      <td>0.466625</td>\n",
              "      <td>0.641857</td>\n",
              "      <td>0.391810</td>\n",
              "      <td>0.501775</td>\n",
              "      <td>0.581483</td>\n",
              "      <td>0.540328</td>\n",
              "      <td>0.790661</td>\n",
              "      <td>-0.244098</td>\n",
              "      <td>0.036506</td>\n",
              "      <td>0.125972</td>\n",
              "      <td>-0.042190</td>\n",
              "      <td>1.000000</td>\n",
              "      <td>-0.003943</td>\n",
              "      <td>-0.003943</td>\n",
              "      <td>0.056241</td>\n",
              "    </tr>\n",
              "    <tr>\n",
              "      <th>rv1</th>\n",
              "      <td>-0.011145</td>\n",
              "      <td>0.000521</td>\n",
              "      <td>-0.006203</td>\n",
              "      <td>-0.000699</td>\n",
              "      <td>-0.011087</td>\n",
              "      <td>0.006275</td>\n",
              "      <td>-0.005194</td>\n",
              "      <td>-0.000477</td>\n",
              "      <td>-0.001815</td>\n",
              "      <td>-0.001787</td>\n",
              "      <td>-0.005490</td>\n",
              "      <td>-0.011056</td>\n",
              "      <td>-0.015086</td>\n",
              "      <td>0.011671</td>\n",
              "      <td>-0.003900</td>\n",
              "      <td>0.001820</td>\n",
              "      <td>-0.003210</td>\n",
              "      <td>0.004480</td>\n",
              "      <td>-0.001227</td>\n",
              "      <td>-0.002955</td>\n",
              "      <td>-0.015216</td>\n",
              "      <td>0.000699</td>\n",
              "      <td>0.020441</td>\n",
              "      <td>-0.011342</td>\n",
              "      <td>-0.005889</td>\n",
              "      <td>-0.003943</td>\n",
              "      <td>1.000000</td>\n",
              "      <td>1.000000</td>\n",
              "      <td>-0.010200</td>\n",
              "    </tr>\n",
              "    <tr>\n",
              "      <th>rv2</th>\n",
              "      <td>-0.011145</td>\n",
              "      <td>0.000521</td>\n",
              "      <td>-0.006203</td>\n",
              "      <td>-0.000699</td>\n",
              "      <td>-0.011087</td>\n",
              "      <td>0.006275</td>\n",
              "      <td>-0.005194</td>\n",
              "      <td>-0.000477</td>\n",
              "      <td>-0.001815</td>\n",
              "      <td>-0.001787</td>\n",
              "      <td>-0.005490</td>\n",
              "      <td>-0.011056</td>\n",
              "      <td>-0.015086</td>\n",
              "      <td>0.011671</td>\n",
              "      <td>-0.003900</td>\n",
              "      <td>0.001820</td>\n",
              "      <td>-0.003210</td>\n",
              "      <td>0.004480</td>\n",
              "      <td>-0.001227</td>\n",
              "      <td>-0.002955</td>\n",
              "      <td>-0.015216</td>\n",
              "      <td>0.000699</td>\n",
              "      <td>0.020441</td>\n",
              "      <td>-0.011342</td>\n",
              "      <td>-0.005889</td>\n",
              "      <td>-0.003943</td>\n",
              "      <td>1.000000</td>\n",
              "      <td>1.000000</td>\n",
              "      <td>-0.010200</td>\n",
              "    </tr>\n",
              "    <tr>\n",
              "      <th>norm_appliances</th>\n",
              "      <td>0.900397</td>\n",
              "      <td>0.261442</td>\n",
              "      <td>0.160747</td>\n",
              "      <td>0.084457</td>\n",
              "      <td>0.214756</td>\n",
              "      <td>-0.093674</td>\n",
              "      <td>0.167221</td>\n",
              "      <td>-0.006462</td>\n",
              "      <td>0.132359</td>\n",
              "      <td>-0.006533</td>\n",
              "      <td>0.110099</td>\n",
              "      <td>0.024312</td>\n",
              "      <td>0.196546</td>\n",
              "      <td>-0.174133</td>\n",
              "      <td>0.110415</td>\n",
              "      <td>-0.096231</td>\n",
              "      <td>0.153917</td>\n",
              "      <td>-0.165397</td>\n",
              "      <td>0.092553</td>\n",
              "      <td>-0.115582</td>\n",
              "      <td>0.176161</td>\n",
              "      <td>-0.072632</td>\n",
              "      <td>-0.226185</td>\n",
              "      <td>0.087722</td>\n",
              "      <td>-0.010970</td>\n",
              "      <td>0.056241</td>\n",
              "      <td>-0.010200</td>\n",
              "      <td>-0.010200</td>\n",
              "      <td>1.000000</td>\n",
              "    </tr>\n",
              "  </tbody>\n",
              "</table>\n",
              "</div>\n",
              "      <button class=\"colab-df-convert\" onclick=\"convertToInteractive('df-29d8bca9-3f1f-4f6a-b1d3-011a9a63eddd')\"\n",
              "              title=\"Convert this dataframe to an interactive table.\"\n",
              "              style=\"display:none;\">\n",
              "        \n",
              "  <svg xmlns=\"http://www.w3.org/2000/svg\" height=\"24px\"viewBox=\"0 0 24 24\"\n",
              "       width=\"24px\">\n",
              "    <path d=\"M0 0h24v24H0V0z\" fill=\"none\"/>\n",
              "    <path d=\"M18.56 5.44l.94 2.06.94-2.06 2.06-.94-2.06-.94-.94-2.06-.94 2.06-2.06.94zm-11 1L8.5 8.5l.94-2.06 2.06-.94-2.06-.94L8.5 2.5l-.94 2.06-2.06.94zm10 10l.94 2.06.94-2.06 2.06-.94-2.06-.94-.94-2.06-.94 2.06-2.06.94z\"/><path d=\"M17.41 7.96l-1.37-1.37c-.4-.4-.92-.59-1.43-.59-.52 0-1.04.2-1.43.59L10.3 9.45l-7.72 7.72c-.78.78-.78 2.05 0 2.83L4 21.41c.39.39.9.59 1.41.59.51 0 1.02-.2 1.41-.59l7.78-7.78 2.81-2.81c.8-.78.8-2.07 0-2.86zM5.41 20L4 18.59l7.72-7.72 1.47 1.35L5.41 20z\"/>\n",
              "  </svg>\n",
              "      </button>\n",
              "      \n",
              "  <style>\n",
              "    .colab-df-container {\n",
              "      display:flex;\n",
              "      flex-wrap:wrap;\n",
              "      gap: 12px;\n",
              "    }\n",
              "\n",
              "    .colab-df-convert {\n",
              "      background-color: #E8F0FE;\n",
              "      border: none;\n",
              "      border-radius: 50%;\n",
              "      cursor: pointer;\n",
              "      display: none;\n",
              "      fill: #1967D2;\n",
              "      height: 32px;\n",
              "      padding: 0 0 0 0;\n",
              "      width: 32px;\n",
              "    }\n",
              "\n",
              "    .colab-df-convert:hover {\n",
              "      background-color: #E2EBFA;\n",
              "      box-shadow: 0px 1px 2px rgba(60, 64, 67, 0.3), 0px 1px 3px 1px rgba(60, 64, 67, 0.15);\n",
              "      fill: #174EA6;\n",
              "    }\n",
              "\n",
              "    [theme=dark] .colab-df-convert {\n",
              "      background-color: #3B4455;\n",
              "      fill: #D2E3FC;\n",
              "    }\n",
              "\n",
              "    [theme=dark] .colab-df-convert:hover {\n",
              "      background-color: #434B5C;\n",
              "      box-shadow: 0px 1px 3px 1px rgba(0, 0, 0, 0.15);\n",
              "      filter: drop-shadow(0px 1px 2px rgba(0, 0, 0, 0.3));\n",
              "      fill: #FFFFFF;\n",
              "    }\n",
              "  </style>\n",
              "\n",
              "      <script>\n",
              "        const buttonEl =\n",
              "          document.querySelector('#df-29d8bca9-3f1f-4f6a-b1d3-011a9a63eddd button.colab-df-convert');\n",
              "        buttonEl.style.display =\n",
              "          google.colab.kernel.accessAllowed ? 'block' : 'none';\n",
              "\n",
              "        async function convertToInteractive(key) {\n",
              "          const element = document.querySelector('#df-29d8bca9-3f1f-4f6a-b1d3-011a9a63eddd');\n",
              "          const dataTable =\n",
              "            await google.colab.kernel.invokeFunction('convertToInteractive',\n",
              "                                                     [key], {});\n",
              "          if (!dataTable) return;\n",
              "\n",
              "          const docLinkHtml = 'Like what you see? Visit the ' +\n",
              "            '<a target=\"_blank\" href=https://colab.research.google.com/notebooks/data_table.ipynb>data table notebook</a>'\n",
              "            + ' to learn more about interactive tables.';\n",
              "          element.innerHTML = '';\n",
              "          dataTable['output_type'] = 'display_data';\n",
              "          await google.colab.output.renderOutput(dataTable, element);\n",
              "          const docLink = document.createElement('div');\n",
              "          docLink.innerHTML = docLinkHtml;\n",
              "          element.appendChild(docLink);\n",
              "        }\n",
              "      </script>\n",
              "    </div>\n",
              "  </div>\n",
              "  "
            ],
            "text/plain": [
              "                 Appliances    lights  ...       rv2  norm_appliances\n",
              "Appliances         1.000000  0.197278  ... -0.011145         0.900397\n",
              "lights             0.197278  1.000000  ...  0.000521         0.261442\n",
              "T1                 0.055447 -0.023528  ... -0.006203         0.160747\n",
              "RH_1               0.086031  0.106968  ... -0.000699         0.084457\n",
              "T2                 0.120073 -0.005622  ... -0.011087         0.214756\n",
              "RH_2              -0.060465  0.050985  ...  0.006275        -0.093674\n",
              "T3                 0.085060 -0.097393  ... -0.005194         0.167221\n",
              "RH_3               0.036292  0.131161  ... -0.000477        -0.006462\n",
              "T4                 0.040281 -0.008859  ... -0.001815         0.132359\n",
              "RH_4               0.016965  0.114936  ... -0.001787        -0.006533\n",
              "T5                 0.019760 -0.078745  ... -0.005490         0.110099\n",
              "RH_5               0.006955  0.141233  ... -0.011056         0.024312\n",
              "T6                 0.117638 -0.079029  ... -0.015086         0.196546\n",
              "RH_6              -0.083178  0.153756  ...  0.011671        -0.174133\n",
              "T7                 0.025801 -0.135347  ... -0.003900         0.110415\n",
              "RH_7              -0.055642  0.035069  ...  0.001820        -0.096231\n",
              "T8                 0.039572 -0.071458  ... -0.003210         0.153917\n",
              "RH_8              -0.094039  0.012915  ...  0.004480        -0.165397\n",
              "T9                 0.010010 -0.157592  ... -0.001227         0.092553\n",
              "RH_9              -0.051462 -0.008766  ... -0.002955        -0.115582\n",
              "T_out              0.099155 -0.074424  ... -0.015216         0.176161\n",
              "Press_mm_hg       -0.034885 -0.010576  ...  0.000699        -0.072632\n",
              "RH_out            -0.152282  0.068543  ...  0.020441        -0.226185\n",
              "Windspeed          0.087122  0.060281  ... -0.011342         0.087722\n",
              "Visibility         0.000230  0.020038  ... -0.005889        -0.010970\n",
              "Tdewpoint          0.015353 -0.036322  ... -0.003943         0.056241\n",
              "rv1               -0.011145  0.000521  ...  1.000000        -0.010200\n",
              "rv2               -0.011145  0.000521  ...  1.000000        -0.010200\n",
              "norm_appliances    0.900397  0.261442  ... -0.010200         1.000000\n",
              "\n",
              "[29 rows x 29 columns]"
            ]
          },
          "metadata": {},
          "execution_count": 31
        }
      ]
    },
    {
      "cell_type": "code",
      "source": [
        "#visualizing correlation\n",
        "plt.figure(figsize=(12,8))\n",
        "sns.heatmap(df.corr())"
      ],
      "metadata": {
        "colab": {
          "base_uri": "https://localhost:8080/",
          "height": 579
        },
        "id": "8m0Gzz0pViDK",
        "outputId": "f6644b4f-d437-42a6-c71f-727f162c81cc"
      },
      "execution_count": null,
      "outputs": [
        {
          "output_type": "execute_result",
          "data": {
            "text/plain": [
              "<matplotlib.axes._subplots.AxesSubplot at 0x7f1fae59a610>"
            ]
          },
          "metadata": {},
          "execution_count": 33
        },
        {
          "output_type": "display_data",
          "data": {
            "image/png": "[encoded data removed]",
            "text/plain": [
              "<Figure size 864x576 with 2 Axes>"
            ]
          },
          "metadata": {
            "needs_background": "light"
          }
        }
      ]
    },
    {
      "cell_type": "code",
      "source": [
        "df.to_csv('norm_data.csv', index=False)"
      ],
      "metadata": {
        "id": "Lca819GeWjm6"
      },
      "execution_count": null,
      "outputs": []
    },
    {
      "cell_type": "code",
      "source": [
        "from sklearn.preprocessing import MinMaxScaler\n",
        "scaler = MinMaxScaler()\n"
      ],
      "metadata": {
        "id": "CiACdYfPXIwB"
      },
      "execution_count": 83,
      "outputs": []
    },
    {
      "cell_type": "code",
      "source": [
        "normalised_df = pd.DataFrame(scaler.fit_transform(new_df), columns=new_df.columns)"
      ],
      "metadata": {
        "id": "ezZ1_jIVcbx5"
      },
      "execution_count": 84,
      "outputs": []
    },
    {
      "cell_type": "code",
      "source": [
        "df.drop('date',axis=1,inplace=True)"
      ],
      "metadata": {
        "id": "tRTYV3NWXqob"
      },
      "execution_count": 18,
      "outputs": []
    },
    {
      "cell_type": "code",
      "source": [
        "new_df =df.drop(['lights'],axis=1)"
      ],
      "metadata": {
        "id": "z66maKS_p_S9"
      },
      "execution_count": 76,
      "outputs": []
    },
    {
      "cell_type": "code",
      "source": [
        "x_n = normalised_df.drop(['Appliances','norm_appliances'], axis=1)\n",
        "y_n= normalised_df['Appliances']"
      ],
      "metadata": {
        "id": "szFEpCLAqM7W"
      },
      "execution_count": 85,
      "outputs": []
    },
    {
      "cell_type": "code",
      "source": [
        "from sklearn.model_selection import train_test_split\n",
        "x_train, x_test, y_train, y_test = train_test_split(x_n, y_n,\n",
        "test_size=0.3)\n",
        "from sklearn.linear_model import LinearRegression\n",
        "lr = LinearRegression()\n",
        "lr.fit(x_train, y_train)"
      ],
      "metadata": {
        "id": "uL0lZdmZXWL4",
        "colab": {
          "base_uri": "https://localhost:8080/"
        },
        "outputId": "b12239ca-7879-47b8-e1ba-cd8ba9b5725a"
      },
      "execution_count": 86,
      "outputs": [
        {
          "output_type": "execute_result",
          "data": {
            "text/plain": [
              "LinearRegression()"
            ]
          },
          "metadata": {},
          "execution_count": 86
        }
      ]
    },
    {
      "cell_type": "code",
      "source": [
        ""
      ],
      "metadata": {
        "id": "vCaMVJH2q76o"
      },
      "execution_count": null,
      "outputs": []
    },
    {
      "cell_type": "code",
      "source": [
        "pred_lr = lr.predict(x_test)\n",
        "mae = mean_absolute_error(y_test, pred_lr)\n",
        "round(mae, 2)"
      ],
      "metadata": {
        "id": "KZcsn-BYqyot",
        "outputId": "834fe918-18a6-41a5-b2c9-bf405efb4f6b",
        "colab": {
          "base_uri": "https://localhost:8080/"
        }
      },
      "execution_count": 87,
      "outputs": [
        {
          "output_type": "execute_result",
          "data": {
            "text/plain": [
              "0.05"
            ]
          },
          "metadata": {},
          "execution_count": 87
        }
      ]
    },
    {
      "cell_type": "code",
      "source": [
        "rmse = np.sqrt(mean_squared_error(y_test, pred_lr))\n",
        "round(rmse, 3)"
      ],
      "metadata": {
        "id": "zITGyWNFrLi3",
        "outputId": "90ae6368-363f-454b-89f0-dbbc8c6d5b8f",
        "colab": {
          "base_uri": "https://localhost:8080/"
        }
      },
      "execution_count": 88,
      "outputs": [
        {
          "output_type": "execute_result",
          "data": {
            "text/plain": [
              "0.089"
            ]
          },
          "metadata": {},
          "execution_count": 88
        }
      ]
    },
    {
      "cell_type": "code",
      "source": [
        "import numpy as np\n",
        "rss = np.sum(np.square(y_test - pred_lr))\n",
        "round(rss, 3)"
      ],
      "metadata": {
        "id": "3LN_K2sGrY3s",
        "outputId": "75f7576f-97e7-41f9-a783-7b345c2d194b",
        "colab": {
          "base_uri": "https://localhost:8080/"
        }
      },
      "execution_count": 89,
      "outputs": [
        {
          "output_type": "execute_result",
          "data": {
            "text/plain": [
              "47.243"
            ]
          },
          "metadata": {},
          "execution_count": 89
        }
      ]
    },
    {
      "cell_type": "code",
      "source": [
        "from sklearn.linear_model import Ridge\n",
        "ridge_reg = Ridge(alpha=0.4)\n",
        "ridge_reg.fit(x_train, y_train)\n"
      ],
      "metadata": {
        "id": "nb-bebTqsaYZ",
        "outputId": "8f8f8c77-6f86-499f-bea0-01eec4337fa0",
        "colab": {
          "base_uri": "https://localhost:8080/"
        }
      },
      "execution_count": 96,
      "outputs": [
        {
          "output_type": "execute_result",
          "data": {
            "text/plain": [
              "Ridge(alpha=0.4)"
            ]
          },
          "metadata": {},
          "execution_count": 96
        }
      ]
    },
    {
      "cell_type": "code",
      "source": [
        "pred_rig =ridge_reg.predict(x_test)\n",
        "rmse = np.sqrt(mean_squared_error(y_test, pred_rig))\n",
        "round(rmse, 3)"
      ],
      "metadata": {
        "id": "8Y-iH4q_tfHm",
        "outputId": "6aaaabc8-8249-48ee-af9a-e52cfba4fda6",
        "colab": {
          "base_uri": "https://localhost:8080/"
        }
      },
      "execution_count": 98,
      "outputs": [
        {
          "output_type": "execute_result",
          "data": {
            "text/plain": [
              "0.089"
            ]
          },
          "metadata": {},
          "execution_count": 98
        }
      ]
    },
    {
      "cell_type": "code",
      "source": [
        "from sklearn.linear_model import Lasso\n",
        "lasso_reg = Lasso(alpha=0.001)\n",
        "lasso_reg.fit(x_train, y_train)"
      ],
      "metadata": {
        "id": "sR4hbxPSserx",
        "outputId": "cd4bdd9c-10a0-4697-c456-51a1030c9a1b",
        "colab": {
          "base_uri": "https://localhost:8080/"
        }
      },
      "execution_count": 91,
      "outputs": [
        {
          "output_type": "execute_result",
          "data": {
            "text/plain": [
              "Lasso(alpha=0.001)"
            ]
          },
          "metadata": {},
          "execution_count": 91
        }
      ]
    },
    {
      "cell_type": "code",
      "source": [
        "pred_las =lasso_reg.predict(x_test)\n",
        "rmse = np.sqrt(mean_squared_error(y_test, pred_las))\n",
        "round(rmse, 3)"
      ],
      "metadata": {
        "id": "RiUjXSrPtyWj",
        "outputId": "6537625e-c48e-4f0e-f014-88f4d1873b45",
        "colab": {
          "base_uri": "https://localhost:8080/"
        }
      },
      "execution_count": 99,
      "outputs": [
        {
          "output_type": "execute_result",
          "data": {
            "text/plain": [
              "0.095"
            ]
          },
          "metadata": {},
          "execution_count": 99
        }
      ]
    },
    {
      "cell_type": "code",
      "source": [
        "def get_weights_df(model, feat, col_name):\n",
        "  weights = pd.Series(model.coef_, feat.columns).sort_values()\n",
        "  weights_df = pd.DataFrame(weights).reset_index()\n",
        "  weights_df.columns = ['Features', col_name]\n",
        "  weights_df[col_name].round(3)\n",
        "  return weights_df"
      ],
      "metadata": {
        "id": "CXdhR3UKsjQZ"
      },
      "execution_count": 92,
      "outputs": []
    },
    {
      "cell_type": "code",
      "source": [
        "linear_model_weights = get_weights_df(lr, x_train, 'Linear_Model_Weight')\n",
        "ridge_weights_df = get_weights_df(ridge_reg, x_train, 'Ridge_Weight')\n",
        "lasso_weights_df = get_weights_df(lasso_reg, x_train, 'Lasso_weight')\n",
        "final_weights = pd.merge(linear_model_weights, ridge_weights_df, on='Features')\n",
        "final_weights = pd.merge(final_weights, lasso_weights_df, on='Features')"
      ],
      "metadata": {
        "id": "Mer5S9xEstnw"
      },
      "execution_count": 94,
      "outputs": []
    },
    {
      "cell_type": "code",
      "source": [
        "final_weights"
      ],
      "metadata": {
        "id": "tRqZ7ZNmtB_-",
        "outputId": "d8df2dd8-f5b8-4951-8e8f-aec7da43bb0b",
        "colab": {
          "base_uri": "https://localhost:8080/",
          "height": 865
        }
      },
      "execution_count": 95,
      "outputs": [
        {
          "output_type": "execute_result",
          "data": {
            "text/html": [
              "\n",
              "  <div id=\"df-91db8f94-cd79-444d-aef3-ccbe72a3fd4c\">\n",
              "    <div class=\"colab-df-container\">\n",
              "      <div>\n",
              "<style scoped>\n",
              "    .dataframe tbody tr th:only-of-type {\n",
              "        vertical-align: middle;\n",
              "    }\n",
              "\n",
              "    .dataframe tbody tr th {\n",
              "        vertical-align: top;\n",
              "    }\n",
              "\n",
              "    .dataframe thead th {\n",
              "        text-align: right;\n",
              "    }\n",
              "</style>\n",
              "<table border=\"1\" class=\"dataframe\">\n",
              "  <thead>\n",
              "    <tr style=\"text-align: right;\">\n",
              "      <th></th>\n",
              "      <th>Features</th>\n",
              "      <th>Linear_Model_Weight</th>\n",
              "      <th>Ridge_Weight</th>\n",
              "      <th>Lasso_weight</th>\n",
              "    </tr>\n",
              "  </thead>\n",
              "  <tbody>\n",
              "    <tr>\n",
              "      <th>0</th>\n",
              "      <td>RH_2</td>\n",
              "      <td>-0.462857</td>\n",
              "      <td>-0.408531</td>\n",
              "      <td>-0.000000</td>\n",
              "    </tr>\n",
              "    <tr>\n",
              "      <th>1</th>\n",
              "      <td>T_out</td>\n",
              "      <td>-0.345391</td>\n",
              "      <td>-0.270038</td>\n",
              "      <td>0.000000</td>\n",
              "    </tr>\n",
              "    <tr>\n",
              "      <th>2</th>\n",
              "      <td>T2</td>\n",
              "      <td>-0.240364</td>\n",
              "      <td>-0.198895</td>\n",
              "      <td>0.000000</td>\n",
              "    </tr>\n",
              "    <tr>\n",
              "      <th>3</th>\n",
              "      <td>T9</td>\n",
              "      <td>-0.204258</td>\n",
              "      <td>-0.202419</td>\n",
              "      <td>-0.000000</td>\n",
              "    </tr>\n",
              "    <tr>\n",
              "      <th>4</th>\n",
              "      <td>RH_8</td>\n",
              "      <td>-0.161245</td>\n",
              "      <td>-0.160163</td>\n",
              "      <td>-0.005297</td>\n",
              "    </tr>\n",
              "    <tr>\n",
              "      <th>5</th>\n",
              "      <td>RH_out</td>\n",
              "      <td>-0.082757</td>\n",
              "      <td>-0.053655</td>\n",
              "      <td>-0.049815</td>\n",
              "    </tr>\n",
              "    <tr>\n",
              "      <th>6</th>\n",
              "      <td>RH_7</td>\n",
              "      <td>-0.043123</td>\n",
              "      <td>-0.044615</td>\n",
              "      <td>-0.000000</td>\n",
              "    </tr>\n",
              "    <tr>\n",
              "      <th>7</th>\n",
              "      <td>RH_9</td>\n",
              "      <td>-0.036874</td>\n",
              "      <td>-0.038933</td>\n",
              "      <td>-0.000000</td>\n",
              "    </tr>\n",
              "    <tr>\n",
              "      <th>8</th>\n",
              "      <td>T1</td>\n",
              "      <td>-0.019534</td>\n",
              "      <td>-0.037011</td>\n",
              "      <td>0.000000</td>\n",
              "    </tr>\n",
              "    <tr>\n",
              "      <th>9</th>\n",
              "      <td>T5</td>\n",
              "      <td>-0.000426</td>\n",
              "      <td>-0.005992</td>\n",
              "      <td>-0.000000</td>\n",
              "    </tr>\n",
              "    <tr>\n",
              "      <th>10</th>\n",
              "      <td>rv1</td>\n",
              "      <td>-0.000265</td>\n",
              "      <td>-0.000261</td>\n",
              "      <td>-0.000000</td>\n",
              "    </tr>\n",
              "    <tr>\n",
              "      <th>11</th>\n",
              "      <td>rv2</td>\n",
              "      <td>-0.000265</td>\n",
              "      <td>-0.000261</td>\n",
              "      <td>-0.000000</td>\n",
              "    </tr>\n",
              "    <tr>\n",
              "      <th>12</th>\n",
              "      <td>Press_mm_hg</td>\n",
              "      <td>0.002816</td>\n",
              "      <td>0.002544</td>\n",
              "      <td>-0.000000</td>\n",
              "    </tr>\n",
              "    <tr>\n",
              "      <th>13</th>\n",
              "      <td>Visibility</td>\n",
              "      <td>0.009926</td>\n",
              "      <td>0.009609</td>\n",
              "      <td>0.000000</td>\n",
              "    </tr>\n",
              "    <tr>\n",
              "      <th>14</th>\n",
              "      <td>RH_5</td>\n",
              "      <td>0.015897</td>\n",
              "      <td>0.016022</td>\n",
              "      <td>0.000000</td>\n",
              "    </tr>\n",
              "    <tr>\n",
              "      <th>15</th>\n",
              "      <td>T4</td>\n",
              "      <td>0.023921</td>\n",
              "      <td>0.021991</td>\n",
              "      <td>0.000000</td>\n",
              "    </tr>\n",
              "    <tr>\n",
              "      <th>16</th>\n",
              "      <td>Windspeed</td>\n",
              "      <td>0.026329</td>\n",
              "      <td>0.027652</td>\n",
              "      <td>0.002025</td>\n",
              "    </tr>\n",
              "    <tr>\n",
              "      <th>17</th>\n",
              "      <td>T7</td>\n",
              "      <td>0.027041</td>\n",
              "      <td>0.026095</td>\n",
              "      <td>-0.000000</td>\n",
              "    </tr>\n",
              "    <tr>\n",
              "      <th>18</th>\n",
              "      <td>RH_6</td>\n",
              "      <td>0.031837</td>\n",
              "      <td>0.028499</td>\n",
              "      <td>-0.000000</td>\n",
              "    </tr>\n",
              "    <tr>\n",
              "      <th>19</th>\n",
              "      <td>RH_4</td>\n",
              "      <td>0.043584</td>\n",
              "      <td>0.041077</td>\n",
              "      <td>0.000000</td>\n",
              "    </tr>\n",
              "    <tr>\n",
              "      <th>20</th>\n",
              "      <td>RH_3</td>\n",
              "      <td>0.099932</td>\n",
              "      <td>0.098222</td>\n",
              "      <td>0.000000</td>\n",
              "    </tr>\n",
              "    <tr>\n",
              "      <th>21</th>\n",
              "      <td>T8</td>\n",
              "      <td>0.105026</td>\n",
              "      <td>0.103786</td>\n",
              "      <td>0.000000</td>\n",
              "    </tr>\n",
              "    <tr>\n",
              "      <th>22</th>\n",
              "      <td>Tdewpoint</td>\n",
              "      <td>0.129068</td>\n",
              "      <td>0.085281</td>\n",
              "      <td>0.000000</td>\n",
              "    </tr>\n",
              "    <tr>\n",
              "      <th>23</th>\n",
              "      <td>T6</td>\n",
              "      <td>0.242023</td>\n",
              "      <td>0.217796</td>\n",
              "      <td>0.000000</td>\n",
              "    </tr>\n",
              "    <tr>\n",
              "      <th>24</th>\n",
              "      <td>T3</td>\n",
              "      <td>0.297007</td>\n",
              "      <td>0.293863</td>\n",
              "      <td>0.000000</td>\n",
              "    </tr>\n",
              "    <tr>\n",
              "      <th>25</th>\n",
              "      <td>RH_1</td>\n",
              "      <td>0.521922</td>\n",
              "      <td>0.483536</td>\n",
              "      <td>0.018343</td>\n",
              "    </tr>\n",
              "  </tbody>\n",
              "</table>\n",
              "</div>\n",
              "      <button class=\"colab-df-convert\" onclick=\"convertToInteractive('df-91db8f94-cd79-444d-aef3-ccbe72a3fd4c')\"\n",
              "              title=\"Convert this dataframe to an interactive table.\"\n",
              "              style=\"display:none;\">\n",
              "        \n",
              "  <svg xmlns=\"http://www.w3.org/2000/svg\" height=\"24px\"viewBox=\"0 0 24 24\"\n",
              "       width=\"24px\">\n",
              "    <path d=\"M0 0h24v24H0V0z\" fill=\"none\"/>\n",
              "    <path d=\"M18.56 5.44l.94 2.06.94-2.06 2.06-.94-2.06-.94-.94-2.06-.94 2.06-2.06.94zm-11 1L8.5 8.5l.94-2.06 2.06-.94-2.06-.94L8.5 2.5l-.94 2.06-2.06.94zm10 10l.94 2.06.94-2.06 2.06-.94-2.06-.94-.94-2.06-.94 2.06-2.06.94z\"/><path d=\"M17.41 7.96l-1.37-1.37c-.4-.4-.92-.59-1.43-.59-.52 0-1.04.2-1.43.59L10.3 9.45l-7.72 7.72c-.78.78-.78 2.05 0 2.83L4 21.41c.39.39.9.59 1.41.59.51 0 1.02-.2 1.41-.59l7.78-7.78 2.81-2.81c.8-.78.8-2.07 0-2.86zM5.41 20L4 18.59l7.72-7.72 1.47 1.35L5.41 20z\"/>\n",
              "  </svg>\n",
              "      </button>\n",
              "      \n",
              "  <style>\n",
              "    .colab-df-container {\n",
              "      display:flex;\n",
              "      flex-wrap:wrap;\n",
              "      gap: 12px;\n",
              "    }\n",
              "\n",
              "    .colab-df-convert {\n",
              "      background-color: #E8F0FE;\n",
              "      border: none;\n",
              "      border-radius: 50%;\n",
              "      cursor: pointer;\n",
              "      display: none;\n",
              "      fill: #1967D2;\n",
              "      height: 32px;\n",
              "      padding: 0 0 0 0;\n",
              "      width: 32px;\n",
              "    }\n",
              "\n",
              "    .colab-df-convert:hover {\n",
              "      background-color: #E2EBFA;\n",
              "      box-shadow: 0px 1px 2px rgba(60, 64, 67, 0.3), 0px 1px 3px 1px rgba(60, 64, 67, 0.15);\n",
              "      fill: #174EA6;\n",
              "    }\n",
              "\n",
              "    [theme=dark] .colab-df-convert {\n",
              "      background-color: #3B4455;\n",
              "      fill: #D2E3FC;\n",
              "    }\n",
              "\n",
              "    [theme=dark] .colab-df-convert:hover {\n",
              "      background-color: #434B5C;\n",
              "      box-shadow: 0px 1px 3px 1px rgba(0, 0, 0, 0.15);\n",
              "      filter: drop-shadow(0px 1px 2px rgba(0, 0, 0, 0.3));\n",
              "      fill: #FFFFFF;\n",
              "    }\n",
              "  </style>\n",
              "\n",
              "      <script>\n",
              "        const buttonEl =\n",
              "          document.querySelector('#df-91db8f94-cd79-444d-aef3-ccbe72a3fd4c button.colab-df-convert');\n",
              "        buttonEl.style.display =\n",
              "          google.colab.kernel.accessAllowed ? 'block' : 'none';\n",
              "\n",
              "        async function convertToInteractive(key) {\n",
              "          const element = document.querySelector('#df-91db8f94-cd79-444d-aef3-ccbe72a3fd4c');\n",
              "          const dataTable =\n",
              "            await google.colab.kernel.invokeFunction('convertToInteractive',\n",
              "                                                     [key], {});\n",
              "          if (!dataTable) return;\n",
              "\n",
              "          const docLinkHtml = 'Like what you see? Visit the ' +\n",
              "            '<a target=\"_blank\" href=https://colab.research.google.com/notebooks/data_table.ipynb>data table notebook</a>'\n",
              "            + ' to learn more about interactive tables.';\n",
              "          element.innerHTML = '';\n",
              "          dataTable['output_type'] = 'display_data';\n",
              "          await google.colab.output.renderOutput(dataTable, element);\n",
              "          const docLink = document.createElement('div');\n",
              "          docLink.innerHTML = docLinkHtml;\n",
              "          element.appendChild(docLink);\n",
              "        }\n",
              "      </script>\n",
              "    </div>\n",
              "  </div>\n",
              "  "
            ],
            "text/plain": [
              "       Features  Linear_Model_Weight  Ridge_Weight  Lasso_weight\n",
              "0          RH_2            -0.462857     -0.408531     -0.000000\n",
              "1         T_out            -0.345391     -0.270038      0.000000\n",
              "2            T2            -0.240364     -0.198895      0.000000\n",
              "3            T9            -0.204258     -0.202419     -0.000000\n",
              "4          RH_8            -0.161245     -0.160163     -0.005297\n",
              "5        RH_out            -0.082757     -0.053655     -0.049815\n",
              "6          RH_7            -0.043123     -0.044615     -0.000000\n",
              "7          RH_9            -0.036874     -0.038933     -0.000000\n",
              "8            T1            -0.019534     -0.037011      0.000000\n",
              "9            T5            -0.000426     -0.005992     -0.000000\n",
              "10          rv1            -0.000265     -0.000261     -0.000000\n",
              "11          rv2            -0.000265     -0.000261     -0.000000\n",
              "12  Press_mm_hg             0.002816      0.002544     -0.000000\n",
              "13   Visibility             0.009926      0.009609      0.000000\n",
              "14         RH_5             0.015897      0.016022      0.000000\n",
              "15           T4             0.023921      0.021991      0.000000\n",
              "16    Windspeed             0.026329      0.027652      0.002025\n",
              "17           T7             0.027041      0.026095     -0.000000\n",
              "18         RH_6             0.031837      0.028499     -0.000000\n",
              "19         RH_4             0.043584      0.041077      0.000000\n",
              "20         RH_3             0.099932      0.098222      0.000000\n",
              "21           T8             0.105026      0.103786      0.000000\n",
              "22    Tdewpoint             0.129068      0.085281      0.000000\n",
              "23           T6             0.242023      0.217796      0.000000\n",
              "24           T3             0.297007      0.293863      0.000000\n",
              "25         RH_1             0.521922      0.483536      0.018343"
            ]
          },
          "metadata": {},
          "execution_count": 95
        }
      ]
    },
    {
      "cell_type": "code",
      "source": [
        "from sklearn.model_selection import train_test_split\n",
        "x_train, x_test, y_train, y_test = train_test_split(x, y,\n",
        "test_size=0.3)"
      ],
      "metadata": {
        "id": "qSOhY2kDqhW6"
      },
      "execution_count": null,
      "outputs": []
    },
    {
      "cell_type": "code",
      "source": [
        "normalised_df = pd.DataFrame(scaler.fit_transform(df), columns=df.columns)"
      ],
      "metadata": {
        "id": "Q14rqkZWcpZQ"
      },
      "execution_count": 21,
      "outputs": []
    },
    {
      "cell_type": "code",
      "source": [
        "\n",
        "x= normalised_df.drop(['Appliances','norm_appliances'], axis=1)\n",
        "y = normalised_df['norm_appliances']"
      ],
      "metadata": {
        "id": "JkddYLqhXLKp"
      },
      "execution_count": 23,
      "outputs": []
    },
    {
      "cell_type": "code",
      "source": [
        "print(x_train.shape, y_train.shape, x_test.shape, y_test.shape)"
      ],
      "metadata": {
        "colab": {
          "base_uri": "https://localhost:8080/"
        },
        "id": "apS3v3YRdNhX",
        "outputId": "cdfd24ff-9729-4242-8ca6-ce1e991fc057"
      },
      "execution_count": 29,
      "outputs": [
        {
          "output_type": "stream",
          "name": "stdout",
          "text": [
            "(13814, 27) (13814,) (5921, 27) (5921,)\n"
          ]
        }
      ]
    },
    {
      "cell_type": "code",
      "source": [
        "from sklearn.linear_model import LinearRegression\n",
        "lr = LinearRegression()\n",
        "lr.fit(x_train, y_train)"
      ],
      "metadata": {
        "colab": {
          "base_uri": "https://localhost:8080/"
        },
        "id": "1MAomhBfYkXd",
        "outputId": "6a292763-12ac-425b-d4e8-f81572d236f4"
      },
      "execution_count": 30,
      "outputs": [
        {
          "output_type": "execute_result",
          "data": {
            "text/plain": [
              "LinearRegression()"
            ]
          },
          "metadata": {},
          "execution_count": 30
        }
      ]
    },
    {
      "cell_type": "code",
      "source": [
        "pred_lr = lr.predict(x_test)"
      ],
      "metadata": {
        "id": "cLmxrhJmY6XY"
      },
      "execution_count": 31,
      "outputs": []
    },
    {
      "cell_type": "code",
      "source": [
        "from sklearn.metrics import mean_absolute_error\n",
        "mae = mean_absolute_error(y_test, pred_lr)\n",
        "round(mae, 3)"
      ],
      "metadata": {
        "colab": {
          "base_uri": "https://localhost:8080/"
        },
        "id": "IyiJikvlZDCl",
        "outputId": "42dbb143-19cb-48e8-9e7b-a2749a418b30"
      },
      "execution_count": 32,
      "outputs": [
        {
          "output_type": "execute_result",
          "data": {
            "text/plain": [
              "0.084"
            ]
          },
          "metadata": {},
          "execution_count": 32
        }
      ]
    },
    {
      "cell_type": "code",
      "source": [
        "x_r = np.array(df['T2'])\n",
        "y_r = np.array(df['T6'])\n",
        "y_r.shape"
      ],
      "metadata": {
        "colab": {
          "base_uri": "https://localhost:8080/"
        },
        "id": "Y_cLDfgsoc_H",
        "outputId": "f8e28f8c-e682-4837-9bf5-6480be9b13c0"
      },
      "execution_count": 72,
      "outputs": [
        {
          "output_type": "execute_result",
          "data": {
            "text/plain": [
              "(19735,)"
            ]
          },
          "metadata": {},
          "execution_count": 72
        }
      ]
    },
    {
      "cell_type": "code",
      "source": [
        "x_r.reshape(-1, 1)"
      ],
      "metadata": {
        "colab": {
          "base_uri": "https://localhost:8080/"
        },
        "id": "aNecxWhIouXO",
        "outputId": "00141668-3cd9-4fad-cc0e-a97d4a2e17cc"
      },
      "execution_count": 70,
      "outputs": [
        {
          "output_type": "execute_result",
          "data": {
            "text/plain": [
              "array([[19.2       ],\n",
              "       [19.2       ],\n",
              "       [19.2       ],\n",
              "       ...,\n",
              "       [25.62857143],\n",
              "       [25.414     ],\n",
              "       [25.26428571]])"
            ]
          },
          "metadata": {},
          "execution_count": 70
        }
      ]
    },
    {
      "cell_type": "code",
      "source": [
        "#question 11\n",
        "reg = LinearRegression()\n",
        "reg.fit(x_r, y_r)"
      ],
      "metadata": {
        "id": "EniTnak8n8sL"
      },
      "execution_count": null,
      "outputs": []
    },
    {
      "cell_type": "code",
      "source": [
        "from sklearn.metrics import mean_squared_error\n",
        "rmse = np.sqrt(mean_squared_error(y_test, pred_lr))\n",
        "round(rmse, 3)"
      ],
      "metadata": {
        "colab": {
          "base_uri": "https://localhost:8080/"
        },
        "id": "jCEHrkvHZRvK",
        "outputId": "00052df7-0b4c-4f14-aea6-b7baaaa50061"
      },
      "execution_count": 33,
      "outputs": [
        {
          "output_type": "execute_result",
          "data": {
            "text/plain": [
              "0.12"
            ]
          },
          "metadata": {},
          "execution_count": 33
        }
      ]
    },
    {
      "cell_type": "code",
      "source": [
        "from sklearn.metrics import r2_score\n",
        "r2_score = r2_score(y_test, pred_lr)\n",
        "round(r2_score, 3)"
      ],
      "metadata": {
        "id": "3C8fVgxknwjN"
      },
      "execution_count": null,
      "outputs": []
    },
    {
      "cell_type": "code",
      "source": [
        "#check autocorrelation in Appliances\n",
        "df_corr = pd.to_numeric(df['Appliances'], downcast='float')\n",
        "plt.acorr(df_corr, maxlags=12)"
      ],
      "metadata": {
        "id": "XAQdGwN9l9ZS",
        "colab": {
          "base_uri": "https://localhost:8080/",
          "height": 439
        },
        "outputId": "20810674-009f-4e7e-c9e6-ce8613dae7d4"
      },
      "execution_count": 34,
      "outputs": [
        {
          "output_type": "execute_result",
          "data": {
            "text/plain": [
              "(array([-12, -11, -10,  -9,  -8,  -7,  -6,  -5,  -4,  -3,  -2,  -1,   0,\n",
              "          1,   2,   3,   4,   5,   6,   7,   8,   9,  10,  11,  12]),\n",
              " array([0.6380544 , 0.64528954, 0.6523544 , 0.64449394, 0.62899065,\n",
              "        0.6272953 , 0.6451466 , 0.66269815, 0.680536  , 0.70496345,\n",
              "        0.75555694, 0.8704321 , 1.        , 0.8704321 , 0.75555694,\n",
              "        0.70496345, 0.680536  , 0.66269815, 0.6451466 , 0.6272953 ,\n",
              "        0.62899065, 0.64449394, 0.6523544 , 0.64528954, 0.6380544 ],\n",
              "       dtype=float32),\n",
              " <matplotlib.collections.LineCollection at 0x7f314c000c90>,\n",
              " <matplotlib.lines.Line2D at 0x7f314becbd50>)"
            ]
          },
          "metadata": {},
          "execution_count": 34
        },
        {
          "output_type": "display_data",
          "data": {
            "image/png": "[encoded data removed]",
            "text/plain": [
              "<Figure size 432x288 with 1 Axes>"
            ]
          },
          "metadata": {
            "needs_background": "light"
          }
        }
      ]
    },
    {
      "cell_type": "code",
      "source": [
        "from sklearn.feature_selection import SelectKBest\n",
        "from sklearn.feature_selection import f_regression\n"
      ],
      "metadata": {
        "id": "GjAfsfM-dxHo"
      },
      "execution_count": 35,
      "outputs": []
    },
    {
      "cell_type": "code",
      "source": [
        "fs = SelectKBest(score_func=f_regression, k=15)\n",
        "fs.fit(x_train, y_train)\n",
        "x_train_fs = fs.transform(x_train)\n",
        "x_test_fs = fs.transform(x_test)"
      ],
      "metadata": {
        "id": "iXininoKfLlN"
      },
      "execution_count": 41,
      "outputs": []
    },
    {
      "cell_type": "code",
      "source": [
        "x_train_fs"
      ],
      "metadata": {
        "colab": {
          "base_uri": "https://localhost:8080/"
        },
        "id": "i85yS8nGfoWK",
        "outputId": "d7d2cef6-9a34-439f-9f88-e7e219d46d86"
      },
      "execution_count": 42,
      "outputs": [
        {
          "output_type": "execute_result",
          "data": {
            "text/plain": [
              "array([[0.        , 0.6969377 , 0.58153622, ..., 0.37762141, 0.72829582,\n",
              "        0.39473684],\n",
              "       [0.        , 0.2967265 , 0.10903804, ..., 0.47985651, 0.1977492 ,\n",
              "        0.67763158],\n",
              "       [0.        , 0.28616684, 0.04361522, ..., 0.34492274, 0.3681672 ,\n",
              "        0.47368421],\n",
              "       ...,\n",
              "       [0.        , 0.34952482, 0.02907681, ..., 0.47282009, 0.12540193,\n",
              "        0.92105263],\n",
              "       [0.        , 0.66631468, 0.37727163, ..., 0.59188742, 0.47695606,\n",
              "        0.82017544],\n",
              "       [0.        , 0.76135164, 0.40707536, ..., 0.85816777, 0.51125402,\n",
              "        0.93421053]])"
            ]
          },
          "metadata": {},
          "execution_count": 42
        }
      ]
    },
    {
      "cell_type": "code",
      "source": [
        "fs.get_support()"
      ],
      "metadata": {
        "colab": {
          "base_uri": "https://localhost:8080/"
        },
        "id": "V0RwpFqTgrQG",
        "outputId": "c2914755-0e60-4718-bafd-c4bccf3d45f5"
      },
      "execution_count": 43,
      "outputs": [
        {
          "output_type": "execute_result",
          "data": {
            "text/plain": [
              "array([ True,  True, False,  True, False,  True, False,  True, False,\n",
              "        True, False,  True,  True,  True, False,  True,  True,  True,\n",
              "        True,  True, False,  True, False, False, False, False, False])"
            ]
          },
          "metadata": {},
          "execution_count": 43
        }
      ]
    },
    {
      "cell_type": "code",
      "source": [
        "cols = df.columns"
      ],
      "metadata": {
        "id": "Qfscr7K4h3GO"
      },
      "execution_count": 44,
      "outputs": []
    },
    {
      "cell_type": "code",
      "source": [
        "x_train.columns[fs.get_support().tolist()]"
      ],
      "metadata": {
        "colab": {
          "base_uri": "https://localhost:8080/"
        },
        "id": "HSw5-hnei2Br",
        "outputId": "1c080363-16fe-4854-acda-caeb316d65b4"
      },
      "execution_count": 54,
      "outputs": [
        {
          "output_type": "execute_result",
          "data": {
            "text/plain": [
              "Index(['lights', 'T1', 'T2', 'T3', 'T4', 'T5', 'T6', 'RH_6', 'T7', 'T8',\n",
              "       'RH_8', 'T9', 'RH_9', 'T_out', 'RH_out'],\n",
              "      dtype='object')"
            ]
          },
          "metadata": {},
          "execution_count": 54
        }
      ]
    },
    {
      "cell_type": "code",
      "source": [
        "x_train.columns"
      ],
      "metadata": {
        "colab": {
          "base_uri": "https://localhost:8080/"
        },
        "id": "xV6IGi5ij2Uq",
        "outputId": "2151bce4-0a07-4c94-b0a5-af84a73fc2d6"
      },
      "execution_count": 55,
      "outputs": [
        {
          "output_type": "execute_result",
          "data": {
            "text/plain": [
              "Index(['lights', 'T1', 'RH_1', 'T2', 'RH_2', 'T3', 'RH_3', 'T4', 'RH_4', 'T5',\n",
              "       'RH_5', 'T6', 'RH_6', 'T7', 'RH_7', 'T8', 'RH_8', 'T9', 'RH_9', 'T_out',\n",
              "       'Press_mm_hg', 'RH_out', 'Windspeed', 'Visibility', 'Tdewpoint', 'rv1',\n",
              "       'rv2'],\n",
              "      dtype='object')"
            ]
          },
          "metadata": {},
          "execution_count": 55
        }
      ]
    },
    {
      "cell_type": "code",
      "source": [
        "kbest_model = LinearRegression()"
      ],
      "metadata": {
        "id": "dRCBbS5KkHYE"
      },
      "execution_count": 57,
      "outputs": []
    },
    {
      "cell_type": "code",
      "source": [
        "kbest_model.fit(x_train_fs, y_train)"
      ],
      "metadata": {
        "colab": {
          "base_uri": "https://localhost:8080/"
        },
        "id": "6eFmqOxpkg2c",
        "outputId": "65ccb6ff-0bac-434e-a129-f337f6620d3e"
      },
      "execution_count": 58,
      "outputs": [
        {
          "output_type": "execute_result",
          "data": {
            "text/plain": [
              "LinearRegression()"
            ]
          },
          "metadata": {},
          "execution_count": 58
        }
      ]
    },
    {
      "cell_type": "code",
      "source": [
        "kb_pred = kbest_model.predict(x_test_fs)"
      ],
      "metadata": {
        "id": "pWqRlB1rkwFE"
      },
      "execution_count": 59,
      "outputs": []
    },
    {
      "cell_type": "code",
      "source": [
        "mae = mean_absolute_error(y_test, kb_pred)\n",
        "round(mae, 3)"
      ],
      "metadata": {
        "colab": {
          "base_uri": "https://localhost:8080/"
        },
        "id": "CmQakZMNk3Di",
        "outputId": "9f16eabd-e0c9-4313-add5-e2a61f7d0ba3"
      },
      "execution_count": 60,
      "outputs": [
        {
          "output_type": "execute_result",
          "data": {
            "text/plain": [
              "0.088"
            ]
          },
          "metadata": {},
          "execution_count": 60
        }
      ]
    },
    {
      "cell_type": "code",
      "source": [
        "rmse = np.sqrt(mean_squared_error(y_test, kb_pred))\n",
        "round(rmse, 3)"
      ],
      "metadata": {
        "colab": {
          "base_uri": "https://localhost:8080/"
        },
        "id": "juXQq9X7lCsa",
        "outputId": "e5c45dc0-9752-459c-dfc4-b8d95c4167a3"
      },
      "execution_count": 61,
      "outputs": [
        {
          "output_type": "execute_result",
          "data": {
            "text/plain": [
              "0.124"
            ]
          },
          "metadata": {},
          "execution_count": 61
        }
      ]
    },
    {
      "cell_type": "code",
      "source": [
        ""
      ],
      "metadata": {
        "id": "vlYwpOlolS_A"
      },
      "execution_count": null,
      "outputs": []
    }
  ]
}